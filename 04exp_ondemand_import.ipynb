{
 "cells": [
  {
   "cell_type": "code",
   "execution_count": 1,
   "metadata": {},
   "outputs": [],
   "source": [
    "# -*- coding: utf-8 -*-\n",
    "# Author: Vi\n",
    "# Created on: 2024-06-19 14:59:54\n",
    "# Description: 测试按需引入，避免每次运行都加载全部数据集\n",
    "\n",
    "from datasets import DatasetFactory, Category, Label\n",
    "from datasets.SupportedSources import SupportedSourceTypes as SST\n",
    "from datasets.SupportedSources import get_data_source"
   ]
  },
  {
   "cell_type": "code",
   "execution_count": 2,
   "metadata": {},
   "outputs": [],
   "source": [
    "TRAFFIC, CONSTRUCTIONAL, NATURE, SOCIAL, INDUSTRIAL, BIRDCLEF, ESC50, US8K = (\n",
    "    get_data_source(SST.TRAFFIC),\n",
    "    get_data_source(SST.CONSTRUCTIONAL),\n",
    "    get_data_source(SST.NATURE),\n",
    "    get_data_source(SST.SOCIAL),\n",
    "    get_data_source(SST.INDUSTRIAL),\n",
    "    get_data_source(SST.BIRDCLEF),\n",
    "    get_data_source(SST.ESC50),\n",
    "    get_data_source(SST.US8K),\n",
    ")"
   ]
  },
  {
   "cell_type": "code",
   "execution_count": 3,
   "metadata": {},
   "outputs": [
    {
     "name": "stdout",
     "output_type": "stream",
     "text": [
      "加载前-[1]: 24424字节\n",
      "加载后-[1-交通噪声]: 24424字节\n",
      "加载前-[2]: 24416字节\n",
      "加载后-[2-建筑施工噪声]: 24416字节\n",
      "加载前-[3]: 24456字节\n",
      "加载后-[3-自然噪声]: 24456字节\n",
      "加载前-[4]: 24408字节\n",
      "加载后-[4-社会噪声]: 24408字节\n",
      "加载前-[5]: 24408字节\n",
      "加载后-[5-工业噪声]: 24408字节\n",
      "加载前-[6]: 35918248字节\n",
      "加载后-[6-Birdclef]: 35918312字节\n",
      "加载前-[7]: 947768字节\n",
      "加载后-[7-ESC50]: 947712字节\n",
      "加载前-[8]: 3255512字节\n",
      "加载后-[8-US8K]: 3255456字节\n"
     ]
    }
   ],
   "source": [
    "source_ls = [TRAFFIC, CONSTRUCTIONAL, NATURE, SOCIAL, INDUSTRIAL, BIRDCLEF, ESC50, US8K]\n",
    "from pympler.asizeof import asizeof\n",
    "import gc\n",
    "for idx, s in enumerate(source_ls, start=1):\n",
    "    try:\n",
    "        print(f'加载前-[{idx}]: {asizeof(s)}字节')\n",
    "        c = Category(name=s.name, labels=s.childs)\n",
    "        d = DatasetFactory(c)\n",
    "        # print(c.name)\n",
    "        # d.count_train_test_data()\n",
    "        print(f'加载后-[{idx}-{s.name}]: {asizeof(s)}字节')\n",
    "    finally:\n",
    "        del c, d\n",
    "        gc.collect()"
   ]
  },
  {
   "cell_type": "code",
   "execution_count": 4,
   "metadata": {},
   "outputs": [],
   "source": [
    "bird_label = Label(\n",
    "    name='鸟叫',\n",
    "    sources=NATURE.get_childs(\n",
    "        ['北红尾鸲叫声', '叉尾太阳鸟叫声', '大鹰鹃叫声', '强脚树莺叫声', '普通夜鹰叫声', '棕颈钩嘴鹛叫声', '淡脚柳莺叫声']\n",
    "    ) + ESC50.get_childs('chirping_birds')\n",
    ")\n",
    "labels = [\n",
    "    NATURE.get_child(\"雷声\"),\n",
    "    NATURE.get_child(\"蛙声\"),\n",
    "    bird_label,\n",
    "] + TRAFFIC.childs"
   ]
  },
  {
   "cell_type": "code",
   "execution_count": 5,
   "metadata": {},
   "outputs": [
    {
     "data": {
      "text/plain": [
       "23"
      ]
     },
     "execution_count": 5,
     "metadata": {},
     "output_type": "execute_result"
    }
   ],
   "source": [
    "len(labels)"
   ]
  },
  {
   "cell_type": "code",
   "execution_count": 6,
   "metadata": {},
   "outputs": [],
   "source": [
    "category = Category(\"test_category\", labels)"
   ]
  },
  {
   "cell_type": "code",
   "execution_count": 7,
   "metadata": {},
   "outputs": [],
   "source": [
    "dataset_factory = DatasetFactory(category)"
   ]
  },
  {
   "cell_type": "code",
   "execution_count": 8,
   "metadata": {},
   "outputs": [
    {
     "name": "stdout",
     "output_type": "stream",
     "text": [
      "训练集分类分布: Counter({22: 6752, 7: 960, 21: 960, 15: 960, 16: 960, 5: 960, 1: 960, 12: 960, 3: 960, 8: 960, 9: 960, 17: 960, 20: 960, 19: 960, 6: 960, 4: 960, 18: 960, 11: 960, 10: 960, 0: 960, 14: 960, 13: 960, 2: 960})\n",
      "测试集分类分布: Counter({22: 1688, 16: 240, 11: 240, 8: 240, 14: 240, 7: 240, 9: 240, 2: 240, 18: 240, 3: 240, 13: 240, 19: 240, 4: 240, 21: 240, 5: 240, 17: 240, 10: 240, 15: 240, 0: 240, 12: 240, 6: 240, 20: 240, 1: 240})\n"
     ]
    },
    {
     "data": {
      "text/plain": [
       "(Label(id=22, name='鸟叫', sources=[ESC50DataSource(meta_file=\"static/meta_file/esc50.csv\", base_dir=\"c:\\esc50\", name=\"chirping_birds\", label=14, length=40), ProvinceDataSource(base_dir=\"\\\\10.166.168.123\\典型城市声纹数据库-标签过\", name=\"北红尾鸲叫声\", label=0, length=1200, parent=\"自然噪声\"), ProvinceDataSource(base_dir=\"\\\\10.166.168.123\\典型城市声纹数据库-标签过\", name=\"叉尾太阳鸟叫声\", label=1, length=1200, parent=\"自然噪声\"), ProvinceDataSource(base_dir=\"\\\\10.166.168.123\\典型城市声纹数据库-标签过\", name=\"大鹰鹃叫声\", label=2, length=1200, parent=\"自然噪声\"), ProvinceDataSource(base_dir=\"\\\\10.166.168.123\\典型城市声纹数据库-标签过\", name=\"强脚树莺叫声\", label=3, length=1200, parent=\"自然噪声\"), ProvinceDataSource(base_dir=\"\\\\10.166.168.123\\典型城市声纹数据库-标签过\", name=\"普通夜鹰叫声\", label=4, length=1200, parent=\"自然噪声\"), ProvinceDataSource(base_dir=\"\\\\10.166.168.123\\典型城市声纹数据库-标签过\", name=\"棕颈钩嘴鹛叫声\", label=5, length=1200, parent=\"自然噪声\"), ProvinceDataSource(base_dir=\"\\\\10.166.168.123\\典型城市声纹数据库-标签过\", name=\"淡脚柳莺叫声\", label=6, length=1200, parent=\"自然噪声\")]),\n",
       " Label(id=7, name='有轨电车', sources=[ProvinceDataSource(base_dir=\"\\\\10.166.168.123\\典型城市声纹数据库-标签过\", name=\"有轨电车\", label=7, length=1200, parent=\"交通噪声\")]))"
      ]
     },
     "execution_count": 8,
     "metadata": {},
     "output_type": "execute_result"
    }
   ],
   "source": [
    "dataset_factory.count_train_test_data()\n",
    "dataset_factory.category.get_label(index=22), dataset_factory.category.get_label(index=7)"
   ]
  },
  {
   "cell_type": "code",
   "execution_count": 9,
   "metadata": {},
   "outputs": [
    {
     "data": {
      "text/plain": [
       "(['\\\\\\\\10.166.168.123\\\\典型城市声纹数据库-标签过\\\\交通噪声\\\\有轨电车\\\\有轨电车_1142.wav',\n",
       "  '\\\\\\\\10.166.168.123\\\\典型城市声纹数据库-标签过\\\\自然噪声\\\\叉尾太阳鸟叫声\\\\叉尾太阳鸟叫声_657.wav',\n",
       "  '\\\\\\\\10.166.168.123\\\\典型城市声纹数据库-标签过\\\\交通噪声\\\\高铁\\\\高铁_858.wav',\n",
       "  '\\\\\\\\10.166.168.123\\\\典型城市声纹数据库-标签过\\\\自然噪声\\\\棕颈钩嘴鹛叫声\\\\棕颈钩嘴鹛叫声_849.wav',\n",
       "  '\\\\\\\\10.166.168.123\\\\典型城市声纹数据库-标签过\\\\自然噪声\\\\强脚树莺叫声\\\\强脚树莺叫声_135.wav',\n",
       "  '\\\\\\\\10.166.168.123\\\\典型城市声纹数据库-标签过\\\\交通噪声\\\\货车\\\\货车_18.wav',\n",
       "  '\\\\\\\\10.166.168.123\\\\典型城市声纹数据库-标签过\\\\交通噪声\\\\车辆防盗报警\\\\车辆防盗报警_460.wav',\n",
       "  '\\\\\\\\10.166.168.123\\\\典型城市声纹数据库-标签过\\\\交通噪声\\\\高铁\\\\高铁_173.wav',\n",
       "  '\\\\\\\\10.166.168.123\\\\典型城市声纹数据库-标签过\\\\交通噪声\\\\摩托车\\\\摩托车_351.wav',\n",
       "  '\\\\\\\\10.166.168.123\\\\典型城市声纹数据库-标签过\\\\交通噪声\\\\公交车\\\\公交车_1032.wav'],\n",
       " [7, 22, 21, 22, 22, 15, 16, 21, 5, 1])"
      ]
     },
     "execution_count": 9,
     "metadata": {},
     "output_type": "execute_result"
    }
   ],
   "source": [
    "dataset_factory.X_train[:10], dataset_factory.y_train[:10]"
   ]
  },
  {
   "cell_type": "code",
   "execution_count": 10,
   "metadata": {},
   "outputs": [],
   "source": [
    "\n",
    "# 注意：DataSource.get_childs() 返回的是一个列表, DataSource.get_child() 返回的是一个DataSource对象\n",
    "# 所以使用“+”加号拼接labels列表时，应该使用DataSource.get_childs()\n",
    "labels1 = NATURE.get_childs('雷声') + NATURE.get_childs('蛙声') + TRAFFIC.childs + [bird_label] "
   ]
  },
  {
   "cell_type": "code",
   "execution_count": 11,
   "metadata": {},
   "outputs": [
    {
     "data": {
      "text/plain": [
       "[ESC50DataSource(meta_file=\"static/meta_file/esc50.csv\", base_dir=\"c:\\esc50\", name=\"dog\", label=0, length=40),\n",
       " ESC50DataSource(meta_file=\"static/meta_file/esc50.csv\", base_dir=\"c:\\esc50\", name=\"rooster\", label=1, length=40),\n",
       " ESC50DataSource(meta_file=\"static/meta_file/esc50.csv\", base_dir=\"c:\\esc50\", name=\"pig\", label=2, length=40),\n",
       " ESC50DataSource(meta_file=\"static/meta_file/esc50.csv\", base_dir=\"c:\\esc50\", name=\"cow\", label=3, length=40),\n",
       " ESC50DataSource(meta_file=\"static/meta_file/esc50.csv\", base_dir=\"c:\\esc50\", name=\"frog\", label=4, length=40),\n",
       " ESC50DataSource(meta_file=\"static/meta_file/esc50.csv\", base_dir=\"c:\\esc50\", name=\"cat\", label=5, length=40),\n",
       " ESC50DataSource(meta_file=\"static/meta_file/esc50.csv\", base_dir=\"c:\\esc50\", name=\"hen\", label=6, length=40),\n",
       " ESC50DataSource(meta_file=\"static/meta_file/esc50.csv\", base_dir=\"c:\\esc50\", name=\"insects\", label=7, length=40),\n",
       " ESC50DataSource(meta_file=\"static/meta_file/esc50.csv\", base_dir=\"c:\\esc50\", name=\"sheep\", label=8, length=40),\n",
       " ESC50DataSource(meta_file=\"static/meta_file/esc50.csv\", base_dir=\"c:\\esc50\", name=\"crow\", label=9, length=40),\n",
       " ESC50DataSource(meta_file=\"static/meta_file/esc50.csv\", base_dir=\"c:\\esc50\", name=\"rain\", label=10, length=40),\n",
       " ESC50DataSource(meta_file=\"static/meta_file/esc50.csv\", base_dir=\"c:\\esc50\", name=\"sea_waves\", label=11, length=40),\n",
       " ESC50DataSource(meta_file=\"static/meta_file/esc50.csv\", base_dir=\"c:\\esc50\", name=\"crackling_fire\", label=12, length=40),\n",
       " ESC50DataSource(meta_file=\"static/meta_file/esc50.csv\", base_dir=\"c:\\esc50\", name=\"crickets\", label=13, length=40),\n",
       " ESC50DataSource(meta_file=\"static/meta_file/esc50.csv\", base_dir=\"c:\\esc50\", name=\"chirping_birds\", label=14, length=40),\n",
       " ESC50DataSource(meta_file=\"static/meta_file/esc50.csv\", base_dir=\"c:\\esc50\", name=\"water_drops\", label=15, length=40),\n",
       " ESC50DataSource(meta_file=\"static/meta_file/esc50.csv\", base_dir=\"c:\\esc50\", name=\"wind\", label=16, length=40),\n",
       " ESC50DataSource(meta_file=\"static/meta_file/esc50.csv\", base_dir=\"c:\\esc50\", name=\"pouring_water\", label=17, length=40),\n",
       " ESC50DataSource(meta_file=\"static/meta_file/esc50.csv\", base_dir=\"c:\\esc50\", name=\"toilet_flush\", label=18, length=40),\n",
       " ESC50DataSource(meta_file=\"static/meta_file/esc50.csv\", base_dir=\"c:\\esc50\", name=\"thunderstorm\", label=19, length=40),\n",
       " ESC50DataSource(meta_file=\"static/meta_file/esc50.csv\", base_dir=\"c:\\esc50\", name=\"crying_baby\", label=20, length=40),\n",
       " ESC50DataSource(meta_file=\"static/meta_file/esc50.csv\", base_dir=\"c:\\esc50\", name=\"sneezing\", label=21, length=40),\n",
       " ESC50DataSource(meta_file=\"static/meta_file/esc50.csv\", base_dir=\"c:\\esc50\", name=\"clapping\", label=22, length=40),\n",
       " ESC50DataSource(meta_file=\"static/meta_file/esc50.csv\", base_dir=\"c:\\esc50\", name=\"breathing\", label=23, length=40),\n",
       " ESC50DataSource(meta_file=\"static/meta_file/esc50.csv\", base_dir=\"c:\\esc50\", name=\"coughing\", label=24, length=40),\n",
       " ESC50DataSource(meta_file=\"static/meta_file/esc50.csv\", base_dir=\"c:\\esc50\", name=\"footsteps\", label=25, length=40),\n",
       " ESC50DataSource(meta_file=\"static/meta_file/esc50.csv\", base_dir=\"c:\\esc50\", name=\"laughing\", label=26, length=40),\n",
       " ESC50DataSource(meta_file=\"static/meta_file/esc50.csv\", base_dir=\"c:\\esc50\", name=\"brushing_teeth\", label=27, length=40),\n",
       " ESC50DataSource(meta_file=\"static/meta_file/esc50.csv\", base_dir=\"c:\\esc50\", name=\"snoring\", label=28, length=40),\n",
       " ESC50DataSource(meta_file=\"static/meta_file/esc50.csv\", base_dir=\"c:\\esc50\", name=\"drinking_sipping\", label=29, length=40),\n",
       " ESC50DataSource(meta_file=\"static/meta_file/esc50.csv\", base_dir=\"c:\\esc50\", name=\"door_wood_knock\", label=30, length=40),\n",
       " ESC50DataSource(meta_file=\"static/meta_file/esc50.csv\", base_dir=\"c:\\esc50\", name=\"mouse_click\", label=31, length=40),\n",
       " ESC50DataSource(meta_file=\"static/meta_file/esc50.csv\", base_dir=\"c:\\esc50\", name=\"keyboard_typing\", label=32, length=40),\n",
       " ESC50DataSource(meta_file=\"static/meta_file/esc50.csv\", base_dir=\"c:\\esc50\", name=\"door_wood_creaks\", label=33, length=40),\n",
       " ESC50DataSource(meta_file=\"static/meta_file/esc50.csv\", base_dir=\"c:\\esc50\", name=\"can_opening\", label=34, length=40),\n",
       " ESC50DataSource(meta_file=\"static/meta_file/esc50.csv\", base_dir=\"c:\\esc50\", name=\"washing_machine\", label=35, length=40),\n",
       " ESC50DataSource(meta_file=\"static/meta_file/esc50.csv\", base_dir=\"c:\\esc50\", name=\"vacuum_cleaner\", label=36, length=40),\n",
       " ESC50DataSource(meta_file=\"static/meta_file/esc50.csv\", base_dir=\"c:\\esc50\", name=\"clock_alarm\", label=37, length=40),\n",
       " ESC50DataSource(meta_file=\"static/meta_file/esc50.csv\", base_dir=\"c:\\esc50\", name=\"clock_tick\", label=38, length=40),\n",
       " ESC50DataSource(meta_file=\"static/meta_file/esc50.csv\", base_dir=\"c:\\esc50\", name=\"glass_breaking\", label=39, length=40),\n",
       " ESC50DataSource(meta_file=\"static/meta_file/esc50.csv\", base_dir=\"c:\\esc50\", name=\"helicopter\", label=40, length=40),\n",
       " ESC50DataSource(meta_file=\"static/meta_file/esc50.csv\", base_dir=\"c:\\esc50\", name=\"chainsaw\", label=41, length=40),\n",
       " ESC50DataSource(meta_file=\"static/meta_file/esc50.csv\", base_dir=\"c:\\esc50\", name=\"siren\", label=42, length=40),\n",
       " ESC50DataSource(meta_file=\"static/meta_file/esc50.csv\", base_dir=\"c:\\esc50\", name=\"car_horn\", label=43, length=40),\n",
       " ESC50DataSource(meta_file=\"static/meta_file/esc50.csv\", base_dir=\"c:\\esc50\", name=\"engine\", label=44, length=40),\n",
       " ESC50DataSource(meta_file=\"static/meta_file/esc50.csv\", base_dir=\"c:\\esc50\", name=\"train\", label=45, length=40),\n",
       " ESC50DataSource(meta_file=\"static/meta_file/esc50.csv\", base_dir=\"c:\\esc50\", name=\"church_bells\", label=46, length=40),\n",
       " ESC50DataSource(meta_file=\"static/meta_file/esc50.csv\", base_dir=\"c:\\esc50\", name=\"airplane\", label=47, length=40),\n",
       " ESC50DataSource(meta_file=\"static/meta_file/esc50.csv\", base_dir=\"c:\\esc50\", name=\"fireworks\", label=48, length=40),\n",
       " ESC50DataSource(meta_file=\"static/meta_file/esc50.csv\", base_dir=\"c:\\esc50\", name=\"hand_saw\", label=49, length=40)]"
      ]
     },
     "execution_count": 11,
     "metadata": {},
     "output_type": "execute_result"
    }
   ],
   "source": [
    "ESC50.childs"
   ]
  },
  {
   "cell_type": "code",
   "execution_count": 12,
   "metadata": {},
   "outputs": [
    {
     "data": {
      "text/plain": [
       "[BirdclefDataSource(meta_file=\"static/meta_file/Birdclef.csv\", base_dir=\"\\\\10.166.168.123\\BirdClef2021\", name=\"asbfly\", label=0, length=105),\n",
       " BirdclefDataSource(meta_file=\"static/meta_file/Birdclef.csv\", base_dir=\"\\\\10.166.168.123\\BirdClef2021\", name=\"ashdro1\", label=1, length=109),\n",
       " BirdclefDataSource(meta_file=\"static/meta_file/Birdclef.csv\", base_dir=\"\\\\10.166.168.123\\BirdClef2021\", name=\"ashpri1\", label=2, length=96),\n",
       " BirdclefDataSource(meta_file=\"static/meta_file/Birdclef.csv\", base_dir=\"\\\\10.166.168.123\\BirdClef2021\", name=\"ashwoo2\", label=3, length=45),\n",
       " BirdclefDataSource(meta_file=\"static/meta_file/Birdclef.csv\", base_dir=\"\\\\10.166.168.123\\BirdClef2021\", name=\"asikoe2\", label=4, length=275),\n",
       " BirdclefDataSource(meta_file=\"static/meta_file/Birdclef.csv\", base_dir=\"\\\\10.166.168.123\\BirdClef2021\", name=\"asiope1\", label=5, length=5),\n",
       " BirdclefDataSource(meta_file=\"static/meta_file/Birdclef.csv\", base_dir=\"\\\\10.166.168.123\\BirdClef2021\", name=\"aspfly1\", label=6, length=26),\n",
       " BirdclefDataSource(meta_file=\"static/meta_file/Birdclef.csv\", base_dir=\"\\\\10.166.168.123\\BirdClef2021\", name=\"aspswi1\", label=7, length=26),\n",
       " BirdclefDataSource(meta_file=\"static/meta_file/Birdclef.csv\", base_dir=\"\\\\10.166.168.123\\BirdClef2021\", name=\"barfly1\", label=8, length=20),\n",
       " BirdclefDataSource(meta_file=\"static/meta_file/Birdclef.csv\", base_dir=\"\\\\10.166.168.123\\BirdClef2021\", name=\"barswa\", label=9, length=500),\n",
       " BirdclefDataSource(meta_file=\"static/meta_file/Birdclef.csv\", base_dir=\"\\\\10.166.168.123\\BirdClef2021\", name=\"bcnher\", label=10, length=500),\n",
       " BirdclefDataSource(meta_file=\"static/meta_file/Birdclef.csv\", base_dir=\"\\\\10.166.168.123\\BirdClef2021\", name=\"bkcbul1\", label=11, length=24),\n",
       " BirdclefDataSource(meta_file=\"static/meta_file/Birdclef.csv\", base_dir=\"\\\\10.166.168.123\\BirdClef2021\", name=\"bkrfla1\", label=12, length=29),\n",
       " BirdclefDataSource(meta_file=\"static/meta_file/Birdclef.csv\", base_dir=\"\\\\10.166.168.123\\BirdClef2021\", name=\"bkskit1\", label=13, length=268),\n",
       " BirdclefDataSource(meta_file=\"static/meta_file/Birdclef.csv\", base_dir=\"\\\\10.166.168.123\\BirdClef2021\", name=\"bkwsti\", label=14, length=500),\n",
       " BirdclefDataSource(meta_file=\"static/meta_file/Birdclef.csv\", base_dir=\"\\\\10.166.168.123\\BirdClef2021\", name=\"bladro1\", label=15, length=125),\n",
       " BirdclefDataSource(meta_file=\"static/meta_file/Birdclef.csv\", base_dir=\"\\\\10.166.168.123\\BirdClef2021\", name=\"blaeag1\", label=16, length=6),\n",
       " BirdclefDataSource(meta_file=\"static/meta_file/Birdclef.csv\", base_dir=\"\\\\10.166.168.123\\BirdClef2021\", name=\"blakit1\", label=17, length=231),\n",
       " BirdclefDataSource(meta_file=\"static/meta_file/Birdclef.csv\", base_dir=\"\\\\10.166.168.123\\BirdClef2021\", name=\"blhori1\", label=18, length=141),\n",
       " BirdclefDataSource(meta_file=\"static/meta_file/Birdclef.csv\", base_dir=\"\\\\10.166.168.123\\BirdClef2021\", name=\"blnmon1\", label=19, length=173),\n",
       " BirdclefDataSource(meta_file=\"static/meta_file/Birdclef.csv\", base_dir=\"\\\\10.166.168.123\\BirdClef2021\", name=\"blrwar1\", label=20, length=500),\n",
       " BirdclefDataSource(meta_file=\"static/meta_file/Birdclef.csv\", base_dir=\"\\\\10.166.168.123\\BirdClef2021\", name=\"bncwoo3\", label=21, length=7),\n",
       " BirdclefDataSource(meta_file=\"static/meta_file/Birdclef.csv\", base_dir=\"\\\\10.166.168.123\\BirdClef2021\", name=\"brakit1\", label=22, length=44),\n",
       " BirdclefDataSource(meta_file=\"static/meta_file/Birdclef.csv\", base_dir=\"\\\\10.166.168.123\\BirdClef2021\", name=\"brasta1\", label=23, length=13),\n",
       " BirdclefDataSource(meta_file=\"static/meta_file/Birdclef.csv\", base_dir=\"\\\\10.166.168.123\\BirdClef2021\", name=\"brcful1\", label=24, length=86),\n",
       " BirdclefDataSource(meta_file=\"static/meta_file/Birdclef.csv\", base_dir=\"\\\\10.166.168.123\\BirdClef2021\", name=\"brfowl1\", label=25, length=17),\n",
       " BirdclefDataSource(meta_file=\"static/meta_file/Birdclef.csv\", base_dir=\"\\\\10.166.168.123\\BirdClef2021\", name=\"brnhao1\", label=26, length=122),\n",
       " BirdclefDataSource(meta_file=\"static/meta_file/Birdclef.csv\", base_dir=\"\\\\10.166.168.123\\BirdClef2021\", name=\"brnshr\", label=27, length=150),\n",
       " BirdclefDataSource(meta_file=\"static/meta_file/Birdclef.csv\", base_dir=\"\\\\10.166.168.123\\BirdClef2021\", name=\"brodro1\", label=28, length=114),\n",
       " BirdclefDataSource(meta_file=\"static/meta_file/Birdclef.csv\", base_dir=\"\\\\10.166.168.123\\BirdClef2021\", name=\"brwjac1\", label=29, length=20),\n",
       " BirdclefDataSource(meta_file=\"static/meta_file/Birdclef.csv\", base_dir=\"\\\\10.166.168.123\\BirdClef2021\", name=\"brwowl1\", label=30, length=79),\n",
       " BirdclefDataSource(meta_file=\"static/meta_file/Birdclef.csv\", base_dir=\"\\\\10.166.168.123\\BirdClef2021\", name=\"btbeat1\", label=31, length=57),\n",
       " BirdclefDataSource(meta_file=\"static/meta_file/Birdclef.csv\", base_dir=\"\\\\10.166.168.123\\BirdClef2021\", name=\"bwfshr1\", label=32, length=31),\n",
       " BirdclefDataSource(meta_file=\"static/meta_file/Birdclef.csv\", base_dir=\"\\\\10.166.168.123\\BirdClef2021\", name=\"categr\", label=33, length=210),\n",
       " BirdclefDataSource(meta_file=\"static/meta_file/Birdclef.csv\", base_dir=\"\\\\10.166.168.123\\BirdClef2021\", name=\"chbeat1\", label=34, length=22),\n",
       " BirdclefDataSource(meta_file=\"static/meta_file/Birdclef.csv\", base_dir=\"\\\\10.166.168.123\\BirdClef2021\", name=\"cohcuc1\", label=35, length=76),\n",
       " BirdclefDataSource(meta_file=\"static/meta_file/Birdclef.csv\", base_dir=\"\\\\10.166.168.123\\BirdClef2021\", name=\"comfla1\", label=36, length=32),\n",
       " BirdclefDataSource(meta_file=\"static/meta_file/Birdclef.csv\", base_dir=\"\\\\10.166.168.123\\BirdClef2021\", name=\"comgre\", label=37, length=500),\n",
       " BirdclefDataSource(meta_file=\"static/meta_file/Birdclef.csv\", base_dir=\"\\\\10.166.168.123\\BirdClef2021\", name=\"comior1\", label=38, length=219),\n",
       " BirdclefDataSource(meta_file=\"static/meta_file/Birdclef.csv\", base_dir=\"\\\\10.166.168.123\\BirdClef2021\", name=\"comkin1\", label=39, length=500),\n",
       " BirdclefDataSource(meta_file=\"static/meta_file/Birdclef.csv\", base_dir=\"\\\\10.166.168.123\\BirdClef2021\", name=\"commoo3\", label=40, length=500),\n",
       " BirdclefDataSource(meta_file=\"static/meta_file/Birdclef.csv\", base_dir=\"\\\\10.166.168.123\\BirdClef2021\", name=\"commyn\", label=41, length=237),\n",
       " BirdclefDataSource(meta_file=\"static/meta_file/Birdclef.csv\", base_dir=\"\\\\10.166.168.123\\BirdClef2021\", name=\"compea\", label=42, length=70),\n",
       " BirdclefDataSource(meta_file=\"static/meta_file/Birdclef.csv\", base_dir=\"\\\\10.166.168.123\\BirdClef2021\", name=\"comros\", label=43, length=500),\n",
       " BirdclefDataSource(meta_file=\"static/meta_file/Birdclef.csv\", base_dir=\"\\\\10.166.168.123\\BirdClef2021\", name=\"comsan\", label=44, length=500),\n",
       " BirdclefDataSource(meta_file=\"static/meta_file/Birdclef.csv\", base_dir=\"\\\\10.166.168.123\\BirdClef2021\", name=\"comtai1\", label=45, length=302),\n",
       " BirdclefDataSource(meta_file=\"static/meta_file/Birdclef.csv\", base_dir=\"\\\\10.166.168.123\\BirdClef2021\", name=\"copbar1\", label=46, length=124),\n",
       " BirdclefDataSource(meta_file=\"static/meta_file/Birdclef.csv\", base_dir=\"\\\\10.166.168.123\\BirdClef2021\", name=\"crbsun2\", label=47, length=24),\n",
       " BirdclefDataSource(meta_file=\"static/meta_file/Birdclef.csv\", base_dir=\"\\\\10.166.168.123\\BirdClef2021\", name=\"cregos1\", label=48, length=40),\n",
       " BirdclefDataSource(meta_file=\"static/meta_file/Birdclef.csv\", base_dir=\"\\\\10.166.168.123\\BirdClef2021\", name=\"crfbar1\", label=49, length=13),\n",
       " BirdclefDataSource(meta_file=\"static/meta_file/Birdclef.csv\", base_dir=\"\\\\10.166.168.123\\BirdClef2021\", name=\"crseag1\", label=50, length=153),\n",
       " BirdclefDataSource(meta_file=\"static/meta_file/Birdclef.csv\", base_dir=\"\\\\10.166.168.123\\BirdClef2021\", name=\"dafbab1\", label=51, length=22),\n",
       " BirdclefDataSource(meta_file=\"static/meta_file/Birdclef.csv\", base_dir=\"\\\\10.166.168.123\\BirdClef2021\", name=\"darter2\", label=52, length=7),\n",
       " BirdclefDataSource(meta_file=\"static/meta_file/Birdclef.csv\", base_dir=\"\\\\10.166.168.123\\BirdClef2021\", name=\"eaywag1\", label=53, length=500),\n",
       " BirdclefDataSource(meta_file=\"static/meta_file/Birdclef.csv\", base_dir=\"\\\\10.166.168.123\\BirdClef2021\", name=\"emedov2\", label=54, length=53),\n",
       " BirdclefDataSource(meta_file=\"static/meta_file/Birdclef.csv\", base_dir=\"\\\\10.166.168.123\\BirdClef2021\", name=\"eucdov\", label=55, length=500),\n",
       " BirdclefDataSource(meta_file=\"static/meta_file/Birdclef.csv\", base_dir=\"\\\\10.166.168.123\\BirdClef2021\", name=\"eurbla2\", label=56, length=24),\n",
       " BirdclefDataSource(meta_file=\"static/meta_file/Birdclef.csv\", base_dir=\"\\\\10.166.168.123\\BirdClef2021\", name=\"eurcoo\", label=57, length=500),\n",
       " BirdclefDataSource(meta_file=\"static/meta_file/Birdclef.csv\", base_dir=\"\\\\10.166.168.123\\BirdClef2021\", name=\"forwag1\", label=58, length=44),\n",
       " BirdclefDataSource(meta_file=\"static/meta_file/Birdclef.csv\", base_dir=\"\\\\10.166.168.123\\BirdClef2021\", name=\"gargan\", label=59, length=163),\n",
       " BirdclefDataSource(meta_file=\"static/meta_file/Birdclef.csv\", base_dir=\"\\\\10.166.168.123\\BirdClef2021\", name=\"gloibi\", label=60, length=107),\n",
       " BirdclefDataSource(meta_file=\"static/meta_file/Birdclef.csv\", base_dir=\"\\\\10.166.168.123\\BirdClef2021\", name=\"goflea1\", label=61, length=46),\n",
       " BirdclefDataSource(meta_file=\"static/meta_file/Birdclef.csv\", base_dir=\"\\\\10.166.168.123\\BirdClef2021\", name=\"graher1\", label=62, length=500),\n",
       " BirdclefDataSource(meta_file=\"static/meta_file/Birdclef.csv\", base_dir=\"\\\\10.166.168.123\\BirdClef2021\", name=\"grbeat1\", label=63, length=67),\n",
       " BirdclefDataSource(meta_file=\"static/meta_file/Birdclef.csv\", base_dir=\"\\\\10.166.168.123\\BirdClef2021\", name=\"grecou1\", label=64, length=163),\n",
       " BirdclefDataSource(meta_file=\"static/meta_file/Birdclef.csv\", base_dir=\"\\\\10.166.168.123\\BirdClef2021\", name=\"greegr\", label=65, length=276),\n",
       " BirdclefDataSource(meta_file=\"static/meta_file/Birdclef.csv\", base_dir=\"\\\\10.166.168.123\\BirdClef2021\", name=\"grefla1\", label=66, length=58),\n",
       " BirdclefDataSource(meta_file=\"static/meta_file/Birdclef.csv\", base_dir=\"\\\\10.166.168.123\\BirdClef2021\", name=\"grehor1\", label=67, length=37),\n",
       " BirdclefDataSource(meta_file=\"static/meta_file/Birdclef.csv\", base_dir=\"\\\\10.166.168.123\\BirdClef2021\", name=\"grejun2\", label=68, length=51),\n",
       " BirdclefDataSource(meta_file=\"static/meta_file/Birdclef.csv\", base_dir=\"\\\\10.166.168.123\\BirdClef2021\", name=\"grenig1\", label=69, length=41),\n",
       " BirdclefDataSource(meta_file=\"static/meta_file/Birdclef.csv\", base_dir=\"\\\\10.166.168.123\\BirdClef2021\", name=\"grewar3\", label=70, length=500),\n",
       " BirdclefDataSource(meta_file=\"static/meta_file/Birdclef.csv\", base_dir=\"\\\\10.166.168.123\\BirdClef2021\", name=\"grnsan\", label=71, length=500),\n",
       " BirdclefDataSource(meta_file=\"static/meta_file/Birdclef.csv\", base_dir=\"\\\\10.166.168.123\\BirdClef2021\", name=\"grnwar1\", label=72, length=142),\n",
       " BirdclefDataSource(meta_file=\"static/meta_file/Birdclef.csv\", base_dir=\"\\\\10.166.168.123\\BirdClef2021\", name=\"grtdro1\", label=73, length=278),\n",
       " BirdclefDataSource(meta_file=\"static/meta_file/Birdclef.csv\", base_dir=\"\\\\10.166.168.123\\BirdClef2021\", name=\"gryfra\", label=74, length=56),\n",
       " BirdclefDataSource(meta_file=\"static/meta_file/Birdclef.csv\", base_dir=\"\\\\10.166.168.123\\BirdClef2021\", name=\"grynig2\", label=75, length=20),\n",
       " BirdclefDataSource(meta_file=\"static/meta_file/Birdclef.csv\", base_dir=\"\\\\10.166.168.123\\BirdClef2021\", name=\"grywag\", label=76, length=500),\n",
       " BirdclefDataSource(meta_file=\"static/meta_file/Birdclef.csv\", base_dir=\"\\\\10.166.168.123\\BirdClef2021\", name=\"gybpri1\", label=77, length=115),\n",
       " BirdclefDataSource(meta_file=\"static/meta_file/Birdclef.csv\", base_dir=\"\\\\10.166.168.123\\BirdClef2021\", name=\"gyhcaf1\", label=78, length=217),\n",
       " BirdclefDataSource(meta_file=\"static/meta_file/Birdclef.csv\", base_dir=\"\\\\10.166.168.123\\BirdClef2021\", name=\"heswoo1\", label=79, length=22),\n",
       " BirdclefDataSource(meta_file=\"static/meta_file/Birdclef.csv\", base_dir=\"\\\\10.166.168.123\\BirdClef2021\", name=\"hoopoe\", label=80, length=500),\n",
       " BirdclefDataSource(meta_file=\"static/meta_file/Birdclef.csv\", base_dir=\"\\\\10.166.168.123\\BirdClef2021\", name=\"houcro1\", label=81, length=139),\n",
       " BirdclefDataSource(meta_file=\"static/meta_file/Birdclef.csv\", base_dir=\"\\\\10.166.168.123\\BirdClef2021\", name=\"houspa\", label=82, length=500),\n",
       " BirdclefDataSource(meta_file=\"static/meta_file/Birdclef.csv\", base_dir=\"\\\\10.166.168.123\\BirdClef2021\", name=\"inbrob1\", label=83, length=59),\n",
       " BirdclefDataSource(meta_file=\"static/meta_file/Birdclef.csv\", base_dir=\"\\\\10.166.168.123\\BirdClef2021\", name=\"indpit1\", label=84, length=61),\n",
       " BirdclefDataSource(meta_file=\"static/meta_file/Birdclef.csv\", base_dir=\"\\\\10.166.168.123\\BirdClef2021\", name=\"indrob1\", label=85, length=44),\n",
       " BirdclefDataSource(meta_file=\"static/meta_file/Birdclef.csv\", base_dir=\"\\\\10.166.168.123\\BirdClef2021\", name=\"indrol2\", label=86, length=35),\n",
       " BirdclefDataSource(meta_file=\"static/meta_file/Birdclef.csv\", base_dir=\"\\\\10.166.168.123\\BirdClef2021\", name=\"indtit1\", label=87, length=12),\n",
       " BirdclefDataSource(meta_file=\"static/meta_file/Birdclef.csv\", base_dir=\"\\\\10.166.168.123\\BirdClef2021\", name=\"ingori1\", label=88, length=40),\n",
       " BirdclefDataSource(meta_file=\"static/meta_file/Birdclef.csv\", base_dir=\"\\\\10.166.168.123\\BirdClef2021\", name=\"inpher1\", label=89, length=13),\n",
       " BirdclefDataSource(meta_file=\"static/meta_file/Birdclef.csv\", base_dir=\"\\\\10.166.168.123\\BirdClef2021\", name=\"insbab1\", label=90, length=63),\n",
       " BirdclefDataSource(meta_file=\"static/meta_file/Birdclef.csv\", base_dir=\"\\\\10.166.168.123\\BirdClef2021\", name=\"insowl1\", label=91, length=36),\n",
       " BirdclefDataSource(meta_file=\"static/meta_file/Birdclef.csv\", base_dir=\"\\\\10.166.168.123\\BirdClef2021\", name=\"integr\", label=92, length=5),\n",
       " BirdclefDataSource(meta_file=\"static/meta_file/Birdclef.csv\", base_dir=\"\\\\10.166.168.123\\BirdClef2021\", name=\"isbduc1\", label=93, length=16),\n",
       " BirdclefDataSource(meta_file=\"static/meta_file/Birdclef.csv\", base_dir=\"\\\\10.166.168.123\\BirdClef2021\", name=\"jerbus2\", label=94, length=19),\n",
       " BirdclefDataSource(meta_file=\"static/meta_file/Birdclef.csv\", base_dir=\"\\\\10.166.168.123\\BirdClef2021\", name=\"junbab2\", label=95, length=79),\n",
       " BirdclefDataSource(meta_file=\"static/meta_file/Birdclef.csv\", base_dir=\"\\\\10.166.168.123\\BirdClef2021\", name=\"junmyn1\", label=96, length=15),\n",
       " BirdclefDataSource(meta_file=\"static/meta_file/Birdclef.csv\", base_dir=\"\\\\10.166.168.123\\BirdClef2021\", name=\"junowl1\", label=97, length=49),\n",
       " BirdclefDataSource(meta_file=\"static/meta_file/Birdclef.csv\", base_dir=\"\\\\10.166.168.123\\BirdClef2021\", name=\"kenplo1\", label=98, length=271),\n",
       " BirdclefDataSource(meta_file=\"static/meta_file/Birdclef.csv\", base_dir=\"\\\\10.166.168.123\\BirdClef2021\", name=\"kerlau2\", label=99, length=14),\n",
       " BirdclefDataSource(meta_file=\"static/meta_file/Birdclef.csv\", base_dir=\"\\\\10.166.168.123\\BirdClef2021\", name=\"labcro1\", label=100, length=235),\n",
       " BirdclefDataSource(meta_file=\"static/meta_file/Birdclef.csv\", base_dir=\"\\\\10.166.168.123\\BirdClef2021\", name=\"laudov1\", label=101, length=113),\n",
       " BirdclefDataSource(meta_file=\"static/meta_file/Birdclef.csv\", base_dir=\"\\\\10.166.168.123\\BirdClef2021\", name=\"lblwar1\", label=102, length=90),\n",
       " BirdclefDataSource(meta_file=\"static/meta_file/Birdclef.csv\", base_dir=\"\\\\10.166.168.123\\BirdClef2021\", name=\"lesyel1\", label=103, length=22),\n",
       " BirdclefDataSource(meta_file=\"static/meta_file/Birdclef.csv\", base_dir=\"\\\\10.166.168.123\\BirdClef2021\", name=\"lewduc1\", label=104, length=33),\n",
       " BirdclefDataSource(meta_file=\"static/meta_file/Birdclef.csv\", base_dir=\"\\\\10.166.168.123\\BirdClef2021\", name=\"lirplo\", label=105, length=500),\n",
       " BirdclefDataSource(meta_file=\"static/meta_file/Birdclef.csv\", base_dir=\"\\\\10.166.168.123\\BirdClef2021\", name=\"litegr\", label=106, length=405),\n",
       " BirdclefDataSource(meta_file=\"static/meta_file/Birdclef.csv\", base_dir=\"\\\\10.166.168.123\\BirdClef2021\", name=\"litgre1\", label=107, length=500),\n",
       " BirdclefDataSource(meta_file=\"static/meta_file/Birdclef.csv\", base_dir=\"\\\\10.166.168.123\\BirdClef2021\", name=\"litspi1\", label=108, length=123),\n",
       " BirdclefDataSource(meta_file=\"static/meta_file/Birdclef.csv\", base_dir=\"\\\\10.166.168.123\\BirdClef2021\", name=\"litswi1\", label=109, length=77),\n",
       " BirdclefDataSource(meta_file=\"static/meta_file/Birdclef.csv\", base_dir=\"\\\\10.166.168.123\\BirdClef2021\", name=\"lobsun2\", label=110, length=20),\n",
       " BirdclefDataSource(meta_file=\"static/meta_file/Birdclef.csv\", base_dir=\"\\\\10.166.168.123\\BirdClef2021\", name=\"maghor2\", label=111, length=30),\n",
       " BirdclefDataSource(meta_file=\"static/meta_file/Birdclef.csv\", base_dir=\"\\\\10.166.168.123\\BirdClef2021\", name=\"malpar1\", label=112, length=20),\n",
       " BirdclefDataSource(meta_file=\"static/meta_file/Birdclef.csv\", base_dir=\"\\\\10.166.168.123\\BirdClef2021\", name=\"maltro1\", label=113, length=17),\n",
       " BirdclefDataSource(meta_file=\"static/meta_file/Birdclef.csv\", base_dir=\"\\\\10.166.168.123\\BirdClef2021\", name=\"malwoo1\", label=114, length=10),\n",
       " BirdclefDataSource(meta_file=\"static/meta_file/Birdclef.csv\", base_dir=\"\\\\10.166.168.123\\BirdClef2021\", name=\"marsan\", label=115, length=92),\n",
       " BirdclefDataSource(meta_file=\"static/meta_file/Birdclef.csv\", base_dir=\"\\\\10.166.168.123\\BirdClef2021\", name=\"mawthr1\", label=116, length=46),\n",
       " BirdclefDataSource(meta_file=\"static/meta_file/Birdclef.csv\", base_dir=\"\\\\10.166.168.123\\BirdClef2021\", name=\"moipig1\", label=117, length=27),\n",
       " BirdclefDataSource(meta_file=\"static/meta_file/Birdclef.csv\", base_dir=\"\\\\10.166.168.123\\BirdClef2021\", name=\"nilfly2\", label=118, length=8),\n",
       " BirdclefDataSource(meta_file=\"static/meta_file/Birdclef.csv\", base_dir=\"\\\\10.166.168.123\\BirdClef2021\", name=\"niwpig1\", label=119, length=5),\n",
       " BirdclefDataSource(meta_file=\"static/meta_file/Birdclef.csv\", base_dir=\"\\\\10.166.168.123\\BirdClef2021\", name=\"nutman\", label=120, length=115),\n",
       " BirdclefDataSource(meta_file=\"static/meta_file/Birdclef.csv\", base_dir=\"\\\\10.166.168.123\\BirdClef2021\", name=\"orihob2\", label=121, length=41),\n",
       " BirdclefDataSource(meta_file=\"static/meta_file/Birdclef.csv\", base_dir=\"\\\\10.166.168.123\\BirdClef2021\", name=\"oripip1\", label=122, length=71),\n",
       " BirdclefDataSource(meta_file=\"static/meta_file/Birdclef.csv\", base_dir=\"\\\\10.166.168.123\\BirdClef2021\", name=\"pabflo1\", label=123, length=47),\n",
       " BirdclefDataSource(meta_file=\"static/meta_file/Birdclef.csv\", base_dir=\"\\\\10.166.168.123\\BirdClef2021\", name=\"paisto1\", label=124, length=7),\n",
       " BirdclefDataSource(meta_file=\"static/meta_file/Birdclef.csv\", base_dir=\"\\\\10.166.168.123\\BirdClef2021\", name=\"piebus1\", label=125, length=89),\n",
       " BirdclefDataSource(meta_file=\"static/meta_file/Birdclef.csv\", base_dir=\"\\\\10.166.168.123\\BirdClef2021\", name=\"piekin1\", label=126, length=137),\n",
       " BirdclefDataSource(meta_file=\"static/meta_file/Birdclef.csv\", base_dir=\"\\\\10.166.168.123\\BirdClef2021\", name=\"placuc3\", label=127, length=38),\n",
       " BirdclefDataSource(meta_file=\"static/meta_file/Birdclef.csv\", base_dir=\"\\\\10.166.168.123\\BirdClef2021\", name=\"plaflo1\", label=128, length=20),\n",
       " BirdclefDataSource(meta_file=\"static/meta_file/Birdclef.csv\", base_dir=\"\\\\10.166.168.123\\BirdClef2021\", name=\"plapri1\", label=129, length=155),\n",
       " BirdclefDataSource(meta_file=\"static/meta_file/Birdclef.csv\", base_dir=\"\\\\10.166.168.123\\BirdClef2021\", name=\"plhpar1\", label=130, length=28),\n",
       " BirdclefDataSource(meta_file=\"static/meta_file/Birdclef.csv\", base_dir=\"\\\\10.166.168.123\\BirdClef2021\", name=\"pomgrp2\", label=131, length=9),\n",
       " BirdclefDataSource(meta_file=\"static/meta_file/Birdclef.csv\", base_dir=\"\\\\10.166.168.123\\BirdClef2021\", name=\"purher1\", label=132, length=274),\n",
       " BirdclefDataSource(meta_file=\"static/meta_file/Birdclef.csv\", base_dir=\"\\\\10.166.168.123\\BirdClef2021\", name=\"pursun3\", label=133, length=56),\n",
       " BirdclefDataSource(meta_file=\"static/meta_file/Birdclef.csv\", base_dir=\"\\\\10.166.168.123\\BirdClef2021\", name=\"pursun4\", label=134, length=125),\n",
       " BirdclefDataSource(meta_file=\"static/meta_file/Birdclef.csv\", base_dir=\"\\\\10.166.168.123\\BirdClef2021\", name=\"purswa3\", label=135, length=39),\n",
       " BirdclefDataSource(meta_file=\"static/meta_file/Birdclef.csv\", base_dir=\"\\\\10.166.168.123\\BirdClef2021\", name=\"putbab1\", label=136, length=224),\n",
       " BirdclefDataSource(meta_file=\"static/meta_file/Birdclef.csv\", base_dir=\"\\\\10.166.168.123\\BirdClef2021\", name=\"redspu1\", label=137, length=16),\n",
       " BirdclefDataSource(meta_file=\"static/meta_file/Birdclef.csv\", base_dir=\"\\\\10.166.168.123\\BirdClef2021\", name=\"rerswa1\", label=138, length=198),\n",
       " BirdclefDataSource(meta_file=\"static/meta_file/Birdclef.csv\", base_dir=\"\\\\10.166.168.123\\BirdClef2021\", name=\"revbul\", label=139, length=101),\n",
       " BirdclefDataSource(meta_file=\"static/meta_file/Birdclef.csv\", base_dir=\"\\\\10.166.168.123\\BirdClef2021\", name=\"rewbul\", label=140, length=189),\n",
       " BirdclefDataSource(meta_file=\"static/meta_file/Birdclef.csv\", base_dir=\"\\\\10.166.168.123\\BirdClef2021\", name=\"rewlap1\", label=141, length=135),\n",
       " BirdclefDataSource(meta_file=\"static/meta_file/Birdclef.csv\", base_dir=\"\\\\10.166.168.123\\BirdClef2021\", name=\"rocpig\", label=142, length=201),\n",
       " BirdclefDataSource(meta_file=\"static/meta_file/Birdclef.csv\", base_dir=\"\\\\10.166.168.123\\BirdClef2021\", name=\"rorpar\", label=143, length=420),\n",
       " BirdclefDataSource(meta_file=\"static/meta_file/Birdclef.csv\", base_dir=\"\\\\10.166.168.123\\BirdClef2021\", name=\"rossta2\", label=144, length=60),\n",
       " BirdclefDataSource(meta_file=\"static/meta_file/Birdclef.csv\", base_dir=\"\\\\10.166.168.123\\BirdClef2021\", name=\"rufbab3\", label=145, length=17),\n",
       " BirdclefDataSource(meta_file=\"static/meta_file/Birdclef.csv\", base_dir=\"\\\\10.166.168.123\\BirdClef2021\", name=\"ruftre2\", label=146, length=127),\n",
       " BirdclefDataSource(meta_file=\"static/meta_file/Birdclef.csv\", base_dir=\"\\\\10.166.168.123\\BirdClef2021\", name=\"rufwoo2\", label=147, length=49),\n",
       " BirdclefDataSource(meta_file=\"static/meta_file/Birdclef.csv\", base_dir=\"\\\\10.166.168.123\\BirdClef2021\", name=\"rutfly6\", label=148, length=8),\n",
       " BirdclefDataSource(meta_file=\"static/meta_file/Birdclef.csv\", base_dir=\"\\\\10.166.168.123\\BirdClef2021\", name=\"sbeowl1\", label=149, length=25),\n",
       " BirdclefDataSource(meta_file=\"static/meta_file/Birdclef.csv\", base_dir=\"\\\\10.166.168.123\\BirdClef2021\", name=\"scamin3\", label=150, length=12),\n",
       " BirdclefDataSource(meta_file=\"static/meta_file/Birdclef.csv\", base_dir=\"\\\\10.166.168.123\\BirdClef2021\", name=\"shikra1\", label=151, length=96),\n",
       " BirdclefDataSource(meta_file=\"static/meta_file/Birdclef.csv\", base_dir=\"\\\\10.166.168.123\\BirdClef2021\", name=\"smamin1\", label=152, length=20),\n",
       " BirdclefDataSource(meta_file=\"static/meta_file/Birdclef.csv\", base_dir=\"\\\\10.166.168.123\\BirdClef2021\", name=\"sohmyn1\", label=153, length=42),\n",
       " BirdclefDataSource(meta_file=\"static/meta_file/Birdclef.csv\", base_dir=\"\\\\10.166.168.123\\BirdClef2021\", name=\"spepic1\", label=154, length=45),\n",
       " BirdclefDataSource(meta_file=\"static/meta_file/Birdclef.csv\", base_dir=\"\\\\10.166.168.123\\BirdClef2021\", name=\"spodov\", label=155, length=155),\n",
       " BirdclefDataSource(meta_file=\"static/meta_file/Birdclef.csv\", base_dir=\"\\\\10.166.168.123\\BirdClef2021\", name=\"spoowl1\", label=156, length=35),\n",
       " BirdclefDataSource(meta_file=\"static/meta_file/Birdclef.csv\", base_dir=\"\\\\10.166.168.123\\BirdClef2021\", name=\"sqtbul1\", label=157, length=24),\n",
       " BirdclefDataSource(meta_file=\"static/meta_file/Birdclef.csv\", base_dir=\"\\\\10.166.168.123\\BirdClef2021\", name=\"stbkin1\", label=158, length=122),\n",
       " BirdclefDataSource(meta_file=\"static/meta_file/Birdclef.csv\", base_dir=\"\\\\10.166.168.123\\BirdClef2021\", name=\"sttwoo1\", label=159, length=20),\n",
       " BirdclefDataSource(meta_file=\"static/meta_file/Birdclef.csv\", base_dir=\"\\\\10.166.168.123\\BirdClef2021\", name=\"thbwar1\", label=160, length=102),\n",
       " BirdclefDataSource(meta_file=\"static/meta_file/Birdclef.csv\", base_dir=\"\\\\10.166.168.123\\BirdClef2021\", name=\"tibfly3\", label=161, length=104),\n",
       " BirdclefDataSource(meta_file=\"static/meta_file/Birdclef.csv\", base_dir=\"\\\\10.166.168.123\\BirdClef2021\", name=\"tilwar1\", label=162, length=21),\n",
       " BirdclefDataSource(meta_file=\"static/meta_file/Birdclef.csv\", base_dir=\"\\\\10.166.168.123\\BirdClef2021\", name=\"vefnut1\", label=163, length=41),\n",
       " BirdclefDataSource(meta_file=\"static/meta_file/Birdclef.csv\", base_dir=\"\\\\10.166.168.123\\BirdClef2021\", name=\"vehpar1\", label=164, length=36),\n",
       " BirdclefDataSource(meta_file=\"static/meta_file/Birdclef.csv\", base_dir=\"\\\\10.166.168.123\\BirdClef2021\", name=\"wbbfly1\", label=165, length=7),\n",
       " BirdclefDataSource(meta_file=\"static/meta_file/Birdclef.csv\", base_dir=\"\\\\10.166.168.123\\BirdClef2021\", name=\"wemhar1\", label=166, length=273),\n",
       " BirdclefDataSource(meta_file=\"static/meta_file/Birdclef.csv\", base_dir=\"\\\\10.166.168.123\\BirdClef2021\", name=\"whbbul2\", label=167, length=52),\n",
       " BirdclefDataSource(meta_file=\"static/meta_file/Birdclef.csv\", base_dir=\"\\\\10.166.168.123\\BirdClef2021\", name=\"whbsho3\", label=168, length=22),\n",
       " BirdclefDataSource(meta_file=\"static/meta_file/Birdclef.csv\", base_dir=\"\\\\10.166.168.123\\BirdClef2021\", name=\"whbtre1\", label=169, length=21),\n",
       " BirdclefDataSource(meta_file=\"static/meta_file/Birdclef.csv\", base_dir=\"\\\\10.166.168.123\\BirdClef2021\", name=\"whbwag1\", label=170, length=34),\n",
       " BirdclefDataSource(meta_file=\"static/meta_file/Birdclef.csv\", base_dir=\"\\\\10.166.168.123\\BirdClef2021\", name=\"whbwat1\", label=171, length=167),\n",
       " BirdclefDataSource(meta_file=\"static/meta_file/Birdclef.csv\", base_dir=\"\\\\10.166.168.123\\BirdClef2021\", name=\"whbwoo2\", label=172, length=75),\n",
       " BirdclefDataSource(meta_file=\"static/meta_file/Birdclef.csv\", base_dir=\"\\\\10.166.168.123\\BirdClef2021\", name=\"whcbar1\", label=173, length=56),\n",
       " BirdclefDataSource(meta_file=\"static/meta_file/Birdclef.csv\", base_dir=\"\\\\10.166.168.123\\BirdClef2021\", name=\"whiter2\", label=174, length=226),\n",
       " BirdclefDataSource(meta_file=\"static/meta_file/Birdclef.csv\", base_dir=\"\\\\10.166.168.123\\BirdClef2021\", name=\"whrmun\", label=175, length=63),\n",
       " BirdclefDataSource(meta_file=\"static/meta_file/Birdclef.csv\", base_dir=\"\\\\10.166.168.123\\BirdClef2021\", name=\"whtkin2\", label=176, length=185),\n",
       " BirdclefDataSource(meta_file=\"static/meta_file/Birdclef.csv\", base_dir=\"\\\\10.166.168.123\\BirdClef2021\", name=\"woosan\", label=177, length=500),\n",
       " BirdclefDataSource(meta_file=\"static/meta_file/Birdclef.csv\", base_dir=\"\\\\10.166.168.123\\BirdClef2021\", name=\"wynlau1\", label=178, length=6),\n",
       " BirdclefDataSource(meta_file=\"static/meta_file/Birdclef.csv\", base_dir=\"\\\\10.166.168.123\\BirdClef2021\", name=\"yebbab1\", label=179, length=28),\n",
       " BirdclefDataSource(meta_file=\"static/meta_file/Birdclef.csv\", base_dir=\"\\\\10.166.168.123\\BirdClef2021\", name=\"yebbul3\", label=180, length=30),\n",
       " BirdclefDataSource(meta_file=\"static/meta_file/Birdclef.csv\", base_dir=\"\\\\10.166.168.123\\BirdClef2021\", name=\"zitcis1\", label=181, length=500)]"
      ]
     },
     "execution_count": 12,
     "metadata": {},
     "output_type": "execute_result"
    }
   ],
   "source": [
    "BIRDCLEF.childs"
   ]
  },
  {
   "cell_type": "code",
   "execution_count": 13,
   "metadata": {},
   "outputs": [
    {
     "data": {
      "text/plain": [
       "('0x250452032e0', '0x250452032e0', True)"
      ]
     },
     "execution_count": 13,
     "metadata": {},
     "output_type": "execute_result"
    }
   ],
   "source": [
    "hex(id(BIRDCLEF.__dataframe__)), hex(id(BIRDCLEF.childs[0].__dataframe__)), BIRDCLEF.__dataframe__ is BIRDCLEF.childs[0].__dataframe__"
   ]
  },
  {
   "cell_type": "markdown",
   "metadata": {},
   "source": [
    "### 使用自定义label+其他datasources.childs创建category"
   ]
  },
  {
   "cell_type": "markdown",
   "metadata": {},
   "source": [
    "### 使用datasource本身作为label创建category"
   ]
  },
  {
   "cell_type": "code",
   "execution_count": 14,
   "metadata": {},
   "outputs": [
    {
     "data": {
      "text/plain": [
       "(120000,\n",
       " [{'id': 0, 'name': '交通噪声', 'length': 24000},\n",
       "  {'id': 1, 'name': '工业噪声', 'length': 24000},\n",
       "  {'id': 2, 'name': '建筑施工噪声', 'length': 24000},\n",
       "  {'id': 3, 'name': '社会噪声', 'length': 24000},\n",
       "  {'id': 4, 'name': '自然噪声', 'length': 24000}])"
      ]
     },
     "execution_count": 14,
     "metadata": {},
     "output_type": "execute_result"
    }
   ],
   "source": [
    "# 创建其他category\n",
    "labels2 = [CONSTRUCTIONAL, TRAFFIC, SOCIAL, INDUSTRIAL, NATURE]\n",
    "category2 = Category(name=\"分为五大类\", labels=labels2)\n",
    "len(category2), category2.labels_info"
   ]
  },
  {
   "cell_type": "code",
   "execution_count": 15,
   "metadata": {},
   "outputs": [
    {
     "data": {
      "text/plain": [
       "(72459,\n",
       " [{'id': 0, 'name': 'Birdclef', 'length': 24459},\n",
       "  {'id': 1, 'name': '交通噪声', 'length': 24000},\n",
       "  {'id': 2, 'name': '自然噪声', 'length': 24000}])"
      ]
     },
     "execution_count": 15,
     "metadata": {},
     "output_type": "execute_result"
    }
   ],
   "source": [
    "# 创建其他category\n",
    "labels4 = [BIRDCLEF, TRAFFIC, NATURE]\n",
    "category4 = Category(name=\"分为三大类\", labels=labels4)\n",
    "len(category4), category4.labels_info"
   ]
  },
  {
   "cell_type": "markdown",
   "metadata": {},
   "source": [
    "### 使用datasource.childs作为label创建category"
   ]
  },
  {
   "cell_type": "code",
   "execution_count": 16,
   "metadata": {},
   "outputs": [
    {
     "data": {
      "text/plain": [
       "[{'id': 0, 'name': '云石机', 'length': 1200},\n",
       " {'id': 1, 'name': '凿岩机', 'length': 1200},\n",
       " {'id': 2, 'name': '切割机', 'length': 1200},\n",
       " {'id': 3, 'name': '切石机', 'length': 1200},\n",
       " {'id': 4, 'name': '升降机', 'length': 1200},\n",
       " {'id': 5, 'name': '单斗挖掘机', 'length': 1200},\n",
       " {'id': 6, 'name': '压缩机', 'length': 1200},\n",
       " {'id': 7, 'name': '发电机', 'length': 1200},\n",
       " {'id': 8, 'name': '套丝机', 'length': 1200},\n",
       " {'id': 9, 'name': '打桩机', 'length': 1200},\n",
       " {'id': 10, 'name': '抽水泵', 'length': 1200},\n",
       " {'id': 11, 'name': '电焊', 'length': 1200},\n",
       " {'id': 12, 'name': '电钻', 'length': 1200},\n",
       " {'id': 13, 'name': '电锤', 'length': 1200},\n",
       " {'id': 14, 'name': '电锯', 'length': 1200},\n",
       " {'id': 15, 'name': '砂浆搅拌机', 'length': 1200},\n",
       " {'id': 16, 'name': '螺旋钻孔机', 'length': 1200},\n",
       " {'id': 17, 'name': '起重机', 'length': 1200},\n",
       " {'id': 18, 'name': '钢筋调直机', 'length': 1200},\n",
       " {'id': 19, 'name': '锤子敲打', 'length': 1200}]"
      ]
     },
     "execution_count": 16,
     "metadata": {},
     "output_type": "execute_result"
    }
   ],
   "source": [
    "category3 = Category(name=\"建筑施工\", labels=CONSTRUCTIONAL.childs)\n",
    "category3.labels_info"
   ]
  }
 ],
 "metadata": {
  "kernelspec": {
   "display_name": "Vi",
   "language": "python",
   "name": "python3"
  },
  "language_info": {
   "codemirror_mode": {
    "name": "ipython",
    "version": 3
   },
   "file_extension": ".py",
   "mimetype": "text/x-python",
   "name": "python",
   "nbconvert_exporter": "python",
   "pygments_lexer": "ipython3",
   "version": "3.10.13"
  }
 },
 "nbformat": 4,
 "nbformat_minor": 2
}

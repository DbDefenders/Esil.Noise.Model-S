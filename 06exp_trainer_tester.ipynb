{
 "cells": [
  {
   "cell_type": "code",
   "execution_count": 1,
   "metadata": {},
   "outputs": [
    {
     "data": {
      "text/plain": [
       "True"
      ]
     },
     "execution_count": 1,
     "metadata": {},
     "output_type": "execute_result"
    }
   ],
   "source": [
    "# -*- coding: utf-8 -*-\n",
    "# Author: Vi\n",
    "# Created on: 2024-06-19 22:03:37\n",
    "# Description: 自定义数据集，训练模型，测试模型\n",
    "\n",
    "import os\n",
    "import datetime\n",
    "from argparse import Namespace\n",
    "\n",
    "import tqdm\n",
    "import wandb\n",
    "from dotenv import load_dotenv\n",
    "from torch import nn\n",
    "from torch.utils.data import DataLoader\n",
    "\n",
    "from models.panns import CNN10\n",
    "\n",
    "from datasets import DatasetFactory, Category, Label\n",
    "from datasets import SupportedSources as Sources\n",
    "from datasets.SupportedSources import SupportedSourceTypes as SST\n",
    "\n",
    "from utils import config\n",
    "import utils.wlog as wlog\n",
    "from utils.audio.features import get_feature_transformer, FeatureType\n",
    "from utils.pytorch import Trainer, Tester\n",
    "\n",
    "load_dotenv()"
   ]
  },
  {
   "cell_type": "code",
   "execution_count": 2,
   "metadata": {},
   "outputs": [],
   "source": [
    "# 参数\n",
    "parameters = Namespace(\n",
    "    epochs=10,# 训练轮数\n",
    "    SR=22050,# 采样率，测试时可以调小一点，以便于快速测试\n",
    "    DURATION=10,# 训练时音频的长度，单位为秒\n",
    "    BATCH_SIZE=32,# 批大小\n",
    "    ACCURACY_THRESHOLD=0.5, # 准确率阈值\n",
    "    FEATURE_TYPE=FeatureType.MEL_SPECTROGRAM, # 特征类型\n",
    ")"
   ]
  },
  {
   "cell_type": "code",
   "execution_count": 3,
   "metadata": {},
   "outputs": [],
   "source": [
    "def get_extractor(feature_type:FeatureType):\n",
    "    extractor = get_feature_transformer(\n",
    "        feature_type, **config.features[feature_type.name]\n",
    "    )\n",
    "    return extractor\n",
    "\n",
    "def get_dataloader(train_data, test_data, batch_size=parameters.BATCH_SIZE):\n",
    "    train_dataloader = DataLoader(train_data, batch_size=batch_size, shuffle=True)\n",
    "    test_dataloader = DataLoader(test_data, batch_size=batch_size, shuffle=False)\n",
    "    return train_dataloader, test_dataloader\n",
    "\n",
    "def get_model(input_size, num_classes):\n",
    "    model = CNN10(num_class=num_classes, input_size=input_size)\n",
    "    return model"
   ]
  },
  {
   "cell_type": "code",
   "execution_count": 4,
   "metadata": {},
   "outputs": [
    {
     "name": "stderr",
     "output_type": "stream",
     "text": [
      "Failed to detect the name of this notebook, you can set it manually with the WANDB_NOTEBOOK_NAME environment variable to enable code saving.\n",
      "\u001b[34m\u001b[1mwandb\u001b[0m: Currently logged in as: \u001b[33mreviy\u001b[0m (\u001b[33mesil\u001b[0m). Use \u001b[1m`wandb login --relogin`\u001b[0m to force relogin\n",
      "\u001b[34m\u001b[1mwandb\u001b[0m: \u001b[33mWARNING\u001b[0m If you're specifying your api key in code, ensure this code is not shared publicly.\n",
      "\u001b[34m\u001b[1mwandb\u001b[0m: \u001b[33mWARNING\u001b[0m Consider setting the WANDB_API_KEY environment variable, or running `wandb login` from the command line.\n",
      "\u001b[34m\u001b[1mwandb\u001b[0m: Appending key for api.wandb.ai to your netrc file: C:\\Users\\Vi\\.netrc\n"
     ]
    },
    {
     "data": {
      "application/vnd.jupyter.widget-view+json": {
       "model_id": "2f27c5a8e2a0407283b30a02e3bf3bc4",
       "version_major": 2,
       "version_minor": 0
      },
      "text/plain": [
       "VBox(children=(Label(value='Waiting for wandb.init()...\\r'), FloatProgress(value=0.011111111111111112, max=1.0…"
      ]
     },
     "metadata": {},
     "output_type": "display_data"
    },
    {
     "data": {
      "text/html": [
       "wandb version 0.17.2 is available!  To upgrade, please run:\n",
       " $ pip install wandb --upgrade"
      ],
      "text/plain": [
       "<IPython.core.display.HTML object>"
      ]
     },
     "metadata": {},
     "output_type": "display_data"
    },
    {
     "data": {
      "text/html": [
       "Tracking run with wandb version 0.16.6"
      ],
      "text/plain": [
       "<IPython.core.display.HTML object>"
      ]
     },
     "metadata": {},
     "output_type": "display_data"
    },
    {
     "data": {
      "text/html": [
       "Run data is saved locally in <code>c:\\Users\\Vi\\Desktop\\git\\Viyyy\\Esil.Noise.Model-S\\wandb\\run-20240620_114321-dw1evoae</code>"
      ],
      "text/plain": [
       "<IPython.core.display.HTML object>"
      ]
     },
     "metadata": {},
     "output_type": "display_data"
    },
    {
     "data": {
      "text/html": [
       "Syncing run <strong><a href='https://wandb.ai/esil/ESIL-Noise.Model-S-Experiment-Test/runs/dw1evoae' target=\"_blank\">20240620_114321</a></strong> to <a href='https://wandb.ai/esil/ESIL-Noise.Model-S-Experiment-Test' target=\"_blank\">Weights & Biases</a> (<a href='https://wandb.me/run' target=\"_blank\">docs</a>)<br/>"
      ],
      "text/plain": [
       "<IPython.core.display.HTML object>"
      ]
     },
     "metadata": {},
     "output_type": "display_data"
    },
    {
     "data": {
      "text/html": [
       " View project at <a href='https://wandb.ai/esil/ESIL-Noise.Model-S-Experiment-Test' target=\"_blank\">https://wandb.ai/esil/ESIL-Noise.Model-S-Experiment-Test</a>"
      ],
      "text/plain": [
       "<IPython.core.display.HTML object>"
      ]
     },
     "metadata": {},
     "output_type": "display_data"
    },
    {
     "data": {
      "text/html": [
       " View run at <a href='https://wandb.ai/esil/ESIL-Noise.Model-S-Experiment-Test/runs/dw1evoae' target=\"_blank\">https://wandb.ai/esil/ESIL-Noise.Model-S-Experiment-Test/runs/dw1evoae</a>"
      ],
      "text/plain": [
       "<IPython.core.display.HTML object>"
      ]
     },
     "metadata": {},
     "output_type": "display_data"
    }
   ],
   "source": [
    "wandb.login(key=os.environ['WANDB_API_KEY'], force=True)\n",
    "time_point = datetime.datetime.now().strftime(\"%Y%m%d_%H%M%S\")\n",
    "\n",
    "wandb.init(\n",
    "    project='ESIL-Noise.Model-S-Experiment-Test',\n",
    "    name = time_point,\n",
    "    config=parameters.__dict__\n",
    ")\n",
    "\n",
    "save_dir = f'training/{datetime.datetime.now().strftime(\"%Y-%m-%d\")}'\n",
    "if not os.path.exists(save_dir):\n",
    "    os.makedirs(save_dir)"
   ]
  },
  {
   "cell_type": "code",
   "execution_count": 5,
   "metadata": {},
   "outputs": [],
   "source": [
    "# 自定义数据集\n",
    "\n",
    "bird_label = Label(\n",
    "    name='鸟叫',\n",
    "    sources=Sources.get_data_source(SST.NATURE).get_childs(\n",
    "        ['北红尾鸲叫声', '叉尾太阳鸟叫声', '大鹰鹃叫声', '强脚树莺叫声', '普通夜鹰叫声', '棕颈钩嘴鹛叫声', '淡脚柳莺叫声']\n",
    "    )\n",
    ")\n",
    "labels = [\n",
    "    Sources.get_data_source(SST.NATURE).get_child(\"雷声\"),\n",
    "    Sources.get_data_source(SST.NATURE).get_child(\"蛙声\"),\n",
    "    bird_label,\n",
    "] + Sources.get_data_source(SST.TRAFFIC).childs\n",
    "category = Category('Noise', labels)"
   ]
  },
  {
   "cell_type": "code",
   "execution_count": 6,
   "metadata": {},
   "outputs": [],
   "source": [
    "# 简单一点的数据集，用来测试用\n",
    "category = Category(\"Noise\", Sources.get_data_source(SST.NATURE).childs[:2])"
   ]
  },
  {
   "cell_type": "code",
   "execution_count": 7,
   "metadata": {},
   "outputs": [
    {
     "data": {
      "text/html": [
       "<div>\n",
       "<style scoped>\n",
       "    .dataframe tbody tr th:only-of-type {\n",
       "        vertical-align: middle;\n",
       "    }\n",
       "\n",
       "    .dataframe tbody tr th {\n",
       "        vertical-align: top;\n",
       "    }\n",
       "\n",
       "    .dataframe thead th {\n",
       "        text-align: right;\n",
       "    }\n",
       "</style>\n",
       "<table border=\"1\" class=\"dataframe\">\n",
       "  <thead>\n",
       "    <tr style=\"text-align: right;\">\n",
       "      <th></th>\n",
       "      <th>id</th>\n",
       "      <th>name</th>\n",
       "      <th>length</th>\n",
       "    </tr>\n",
       "  </thead>\n",
       "  <tbody>\n",
       "    <tr>\n",
       "      <th>0</th>\n",
       "      <td>0</td>\n",
       "      <td>北红尾鸲叫声</td>\n",
       "      <td>1200</td>\n",
       "    </tr>\n",
       "    <tr>\n",
       "      <th>1</th>\n",
       "      <td>1</td>\n",
       "      <td>叉尾太阳鸟叫声</td>\n",
       "      <td>1200</td>\n",
       "    </tr>\n",
       "  </tbody>\n",
       "</table>\n",
       "</div>"
      ],
      "text/plain": [
       "   id     name  length\n",
       "0   0   北红尾鸲叫声    1200\n",
       "1   1  叉尾太阳鸟叫声    1200"
      ]
     },
     "execution_count": 7,
     "metadata": {},
     "output_type": "execute_result"
    }
   ],
   "source": [
    "# 查看category的labels_dataframe，也可以使用.labels_info查看\n",
    "category.labels_dataframe"
   ]
  },
  {
   "cell_type": "code",
   "execution_count": 8,
   "metadata": {},
   "outputs": [],
   "source": [
    "# 使用wandb记录labels\n",
    "wandb.log({\"Labels\": wlog.df2table(category.labels_dataframe)})"
   ]
  },
  {
   "cell_type": "code",
   "execution_count": 9,
   "metadata": {},
   "outputs": [
    {
     "name": "stdout",
     "output_type": "stream",
     "text": [
      "num_classes=2\n"
     ]
    }
   ],
   "source": [
    "# 分类数量\n",
    "num_classes = len(category.labels)\n",
    "print(f\"{num_classes=}\")"
   ]
  },
  {
   "cell_type": "code",
   "execution_count": 10,
   "metadata": {},
   "outputs": [],
   "source": [
    "# 创建数据集工厂对象，并创建训练集和测试集数据集对象\n",
    "dataset_factory = DatasetFactory(category)\n",
    "\n",
    "train_data = dataset_factory.create_dataset(train=True, target_sr=parameters.SR, duration=parameters.DURATION, extractor=get_extractor(parameters.FEATURE_TYPE))\n",
    "test_data = dataset_factory.create_dataset(train=False, target_sr=parameters.SR, duration=parameters.DURATION, extractor=get_extractor(parameters.FEATURE_TYPE))"
   ]
  },
  {
   "cell_type": "code",
   "execution_count": 11,
   "metadata": {},
   "outputs": [],
   "source": [
    "# 定义函数，用于获取测试集的音频文件名和标签名称，用于在测试时记录预测错误的结果\n",
    "def get_file_path(index):\n",
    "    return os.path.basename(test_data._get_audio_path(index))\n",
    "\n",
    "def get_label_name(index):\n",
    "    return category.get_label(index).name"
   ]
  },
  {
   "cell_type": "code",
   "execution_count": 12,
   "metadata": {},
   "outputs": [
    {
     "name": "stdout",
     "output_type": "stream",
     "text": [
      "input_size=431\n"
     ]
    }
   ],
   "source": [
    "# 创建dataloader\n",
    "train_dataloader, test_dataloader = get_dataloader(train_data=train_data, test_data=test_data)\n",
    "\n",
    "# 创建模型\n",
    "input_size=test_data[0][0].shape[2]\n",
    "print(f\"{input_size=}\")\n",
    "model = get_model(input_size=input_size, num_classes=num_classes)\n",
    "\n",
    "# 创建loss函数\n",
    "loss = nn.CrossEntropyLoss()\n",
    "\n",
    "# 创建训练器\n",
    "trainer = Trainer(\n",
    "    model, \n",
    "    train_dataloader,\n",
    "    loss,\n",
    "    using_amp=False\n",
    ")\n",
    "# 重载模型（有需要时），需要指定模型路径和优化器路径\n",
    "# trainer.reload_trainer(model_path='test_model.pth', optimizer_path='test_params.pth')\n"
   ]
  },
  {
   "cell_type": "code",
   "execution_count": 13,
   "metadata": {},
   "outputs": [],
   "source": [
    "# metrics = None\n",
    "# tester = Tester.from_trainer(trainer, test_dataloader, num_classes, accuracy=0.0 if metrics is None else metrics.accuracy)\n",
    "# metrics, bad_cases = tester.test_an_epoch(get_file_path=get_file_path, tqdm_instance=None)"
   ]
  },
  {
   "cell_type": "code",
   "execution_count": 14,
   "metadata": {},
   "outputs": [
    {
     "name": "stderr",
     "output_type": "stream",
     "text": [
      "[valid] accuracy: 0.6417, loss: 0.6815: 100%|██████████| 10/10 [22:13<00:00, 133.31s/it]\n"
     ]
    }
   ],
   "source": [
    "metrics = None # 初始化评价指标\n",
    "\n",
    "# 开始训练\n",
    "tqdm_instance = tqdm.tqdm(range(parameters.epochs))\n",
    "for i in tqdm_instance:\n",
    "    train_loss = trainer.train_an_epoch(tqdm_instance=tqdm_instance)\n",
    "    tester = Tester.from_trainer(trainer, test_dataloader, num_classes, accuracy=0.0 if metrics is None else metrics.accuracy)\n",
    "    metrics, bad_cases = tester.test_an_epoch(get_file_path=get_file_path, get_label_name=get_label_name, tqdm_instance=tqdm_instance)\n",
    "    if metrics.accuracy > parameters.ACCURACY_THRESHOLD:\n",
    "        tester.save_model(os.path.join(save_dir, f\"model_{i}_{metrics.accuracy:.2f}.pth\"))\n",
    "    log_info = {\n",
    "        \"Epoch\": i+1,\n",
    "        \"train_loss\": train_loss\n",
    "    }\n",
    "    for key, value in metrics.model_dump().items():\n",
    "        if value is not None:\n",
    "            log_info[key] = value\n",
    "    wandb.log(log_info)\n",
    "    wandb.log({\"bad_cases\": wlog.df2table(bad_cases)})"
   ]
  },
  {
   "cell_type": "code",
   "execution_count": 15,
   "metadata": {},
   "outputs": [
    {
     "data": {
      "application/vnd.jupyter.widget-view+json": {
       "model_id": "50bbfd25356145d6b962c6ee9648181d",
       "version_major": 2,
       "version_minor": 0
      },
      "text/plain": [
       "VBox(children=(Label(value='0.477 MB of 0.477 MB uploaded\\r'), FloatProgress(value=1.0, max=1.0)))"
      ]
     },
     "metadata": {},
     "output_type": "display_data"
    },
    {
     "data": {
      "text/html": [
       "<style>\n",
       "    table.wandb td:nth-child(1) { padding: 0 10px; text-align: left ; width: auto;} td:nth-child(2) {text-align: left ; width: 100%}\n",
       "    .wandb-row { display: flex; flex-direction: row; flex-wrap: wrap; justify-content: flex-start; width: 100% }\n",
       "    .wandb-col { display: flex; flex-direction: column; flex-basis: 100%; flex: 1; padding: 10px; }\n",
       "    </style>\n",
       "<div class=\"wandb-row\"><div class=\"wandb-col\"><h3>Run history:</h3><br/><table class=\"wandb\"><tr><td>Epoch</td><td>▁▂▃▃▄▅▆▆▇█</td></tr><tr><td>accuracy</td><td>███▇▁▅▅█▇▅</td></tr><tr><td>auc</td><td>▆▆█▄▁▄▃▆▅▄</td></tr><tr><td>f1_score</td><td>███▇▁▅▆█▇▅</td></tr><tr><td>f1_score_micro</td><td>███▇▁▅▅█▇▅</td></tr><tr><td>loss</td><td>█▅▇▁▂▃▃▅▂▁</td></tr><tr><td>precision</td><td>▇█▇▇▁▅▅▇▆▅</td></tr><tr><td>recall</td><td>███▇▁▅▅█▇▅</td></tr><tr><td>train_loss</td><td>▆▇▃▃▅▅▁▃▆█</td></tr></table><br/></div><div class=\"wandb-col\"><h3>Run summary:</h3><br/><table class=\"wandb\"><tr><td>Epoch</td><td>10</td></tr><tr><td>accuracy</td><td>0.64167</td></tr><tr><td>auc</td><td>0.72992</td></tr><tr><td>f1_score</td><td>0.60513</td></tr><tr><td>f1_score_micro</td><td>0.64167</td></tr><tr><td>loss</td><td>0.68147</td></tr><tr><td>precision</td><td>0.72489</td></tr><tr><td>recall</td><td>0.64167</td></tr><tr><td>train_loss</td><td>0.69156</td></tr></table><br/></div></div>"
      ],
      "text/plain": [
       "<IPython.core.display.HTML object>"
      ]
     },
     "metadata": {},
     "output_type": "display_data"
    },
    {
     "data": {
      "text/html": [
       " View run <strong style=\"color:#cdcd00\">20240620_114321</strong> at: <a href='https://wandb.ai/esil/ESIL-Noise.Model-S-Experiment-Test/runs/dw1evoae' target=\"_blank\">https://wandb.ai/esil/ESIL-Noise.Model-S-Experiment-Test/runs/dw1evoae</a><br/> View project at: <a href='https://wandb.ai/esil/ESIL-Noise.Model-S-Experiment-Test' target=\"_blank\">https://wandb.ai/esil/ESIL-Noise.Model-S-Experiment-Test</a><br/>Synced 6 W&B file(s), 11 media file(s), 10 artifact file(s) and 0 other file(s)"
      ],
      "text/plain": [
       "<IPython.core.display.HTML object>"
      ]
     },
     "metadata": {},
     "output_type": "display_data"
    },
    {
     "data": {
      "text/html": [
       "Find logs at: <code>.\\wandb\\run-20240620_114321-dw1evoae\\logs</code>"
      ],
      "text/plain": [
       "<IPython.core.display.HTML object>"
      ]
     },
     "metadata": {},
     "output_type": "display_data"
    }
   ],
   "source": [
    "wandb.finish() # 结束wandb的记录"
   ]
  }
 ],
 "metadata": {
  "kernelspec": {
   "display_name": "Python 3 (ipykernel)",
   "language": "python",
   "name": "python3"
  },
  "language_info": {
   "codemirror_mode": {
    "name": "ipython",
    "version": 3
   },
   "file_extension": ".py",
   "mimetype": "text/x-python",
   "name": "python",
   "nbconvert_exporter": "python",
   "pygments_lexer": "ipython3",
   "version": "3.10.13"
  }
 },
 "nbformat": 4,
 "nbformat_minor": 2
}

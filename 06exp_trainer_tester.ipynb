{
 "cells": [
  {
   "cell_type": "code",
   "execution_count": 1,
   "metadata": {},
   "outputs": [],
   "source": [
    "# -*- coding: utf-8 -*-\n",
    "# Author: Vi\n",
    "# Created on: 2024-06-19 22:03:37\n",
    "# Description: 自定义数据集，训练模型，测试模型\n",
    "\n",
    "import os\n",
    "import datetime\n",
    "from argparse import Namespace\n",
    "\n",
    "import tqdm\n",
    "import torch\n",
    "import wandb\n",
    "from dotenv import load_dotenv\n",
    "from torch import nn\n",
    "from torch.utils.data import DataLoader\n",
    "\n",
    "from models.panns import CNN10\n",
    "\n",
    "from datasets import DatasetFactory, Category, Label\n",
    "from datasets.SupportedSources import SupportedSourceTypes as SST\n",
    "\n",
    "from utils import config\n",
    "import utils.wlog as wlog\n",
    "from utils.audio.features import get_feature_transformer, FeatureType\n",
    "from utils.pytorch import Trainer, Tester\n",
    "from utils.audio.extractor import EventExtractor\n",
    "\n",
    "load_dotenv()\n",
    "\n",
    "DEVICE = \"cuda\" if torch.cuda.is_available() else \"cpu\""
   ]
  },
  {
   "cell_type": "code",
   "execution_count": 3,
   "metadata": {},
   "outputs": [],
   "source": [
    "# 参数\n",
    "parameters = Namespace(\n",
    "    epochs=10,# 训练轮数\n",
    "    SR=22050,# 采样率，测试时可以调小一点，以便于快速测试\n",
    "    DURATION=10,# 训练时音频的长度，单位为秒\n",
    "    BATCH_SIZE=32,# 批大小\n",
    "    ACCURACY_THRESHOLD=0.5, # 准确率阈值\n",
    "    FEATURE_TYPE=FeatureType.MEL_SPECTROGRAM, # 特征类型\n",
    ")\n",
    "\n",
    "feature_params = config.features[parameters.FEATURE_TYPE.name]\n",
    "\n",
    "if \"sample_rate\" in feature_params.keys(): # 如果有sr这个参数，更新到与parameters的sr一致\n",
    "    feature_params['sample_rate'] = parameters.SR\n",
    "    \n",
    "parameters.FEATURE_PARAMS = feature_params # 记录上特征的参数"
   ]
  },
  {
   "cell_type": "code",
   "execution_count": 4,
   "metadata": {},
   "outputs": [],
   "source": [
    "def get_extractor(params:Namespace):\n",
    "    extractor = get_feature_transformer(\n",
    "        params.FEATURE_TYPE, **params.FEATURE_PARAMS\n",
    "    )\n",
    "    return extractor\n",
    "\n",
    "def get_dataloader(train_data, test_data, batch_size=parameters.BATCH_SIZE):\n",
    "    train_dataloader = DataLoader(train_data, batch_size=batch_size, shuffle=True)\n",
    "    test_dataloader = DataLoader(test_data, batch_size=batch_size, shuffle=False)\n",
    "    return train_dataloader, test_dataloader\n",
    "\n",
    "def get_model(input_size, num_classes):\n",
    "    model = CNN10(num_class=num_classes, input_size=input_size)\n",
    "    return model"
   ]
  },
  {
   "cell_type": "code",
   "execution_count": 5,
   "metadata": {},
   "outputs": [
    {
     "name": "stderr",
     "output_type": "stream",
     "text": [
      "Failed to detect the name of this notebook, you can set it manually with the WANDB_NOTEBOOK_NAME environment variable to enable code saving.\n",
      "\u001b[34m\u001b[1mwandb\u001b[0m: Currently logged in as: \u001b[33mreviy\u001b[0m (\u001b[33mesil\u001b[0m). Use \u001b[1m`wandb login --relogin`\u001b[0m to force relogin\n",
      "\u001b[34m\u001b[1mwandb\u001b[0m: \u001b[33mWARNING\u001b[0m If you're specifying your api key in code, ensure this code is not shared publicly.\n",
      "\u001b[34m\u001b[1mwandb\u001b[0m: \u001b[33mWARNING\u001b[0m Consider setting the WANDB_API_KEY environment variable, or running `wandb login` from the command line.\n",
      "\u001b[34m\u001b[1mwandb\u001b[0m: Appending key for api.wandb.ai to your netrc file: C:\\Users\\Vi\\.netrc\n"
     ]
    },
    {
     "data": {
      "application/vnd.jupyter.widget-view+json": {
       "model_id": "82c64886453d47c38d6ae8023271dccd",
       "version_major": 2,
       "version_minor": 0
      },
      "text/plain": [
       "VBox(children=(Label(value='Waiting for wandb.init()...\\r'), FloatProgress(value=0.011288888888278356, max=1.0…"
      ]
     },
     "metadata": {},
     "output_type": "display_data"
    },
    {
     "data": {
      "text/html": [
       "wandb version 0.17.5 is available!  To upgrade, please run:\n",
       " $ pip install wandb --upgrade"
      ],
      "text/plain": [
       "<IPython.core.display.HTML object>"
      ]
     },
     "metadata": {},
     "output_type": "display_data"
    },
    {
     "data": {
      "text/html": [
       "Tracking run with wandb version 0.17.3"
      ],
      "text/plain": [
       "<IPython.core.display.HTML object>"
      ]
     },
     "metadata": {},
     "output_type": "display_data"
    },
    {
     "data": {
      "text/html": [
       "Run data is saved locally in <code>f:\\Programme\\git\\Viyyy\\Esil.Noise.Model-S\\wandb\\run-20240725_091713-sszht096</code>"
      ],
      "text/plain": [
       "<IPython.core.display.HTML object>"
      ]
     },
     "metadata": {},
     "output_type": "display_data"
    },
    {
     "data": {
      "text/html": [
       "Syncing run <strong><a href='https://wandb.ai/esil/ESIL-Noise.Model-S-Experiment-Test/runs/sszht096' target=\"_blank\">20240725_091713</a></strong> to <a href='https://wandb.ai/esil/ESIL-Noise.Model-S-Experiment-Test' target=\"_blank\">Weights & Biases</a> (<a href='https://wandb.me/run' target=\"_blank\">docs</a>)<br/>"
      ],
      "text/plain": [
       "<IPython.core.display.HTML object>"
      ]
     },
     "metadata": {},
     "output_type": "display_data"
    },
    {
     "data": {
      "text/html": [
       " View project at <a href='https://wandb.ai/esil/ESIL-Noise.Model-S-Experiment-Test' target=\"_blank\">https://wandb.ai/esil/ESIL-Noise.Model-S-Experiment-Test</a>"
      ],
      "text/plain": [
       "<IPython.core.display.HTML object>"
      ]
     },
     "metadata": {},
     "output_type": "display_data"
    },
    {
     "data": {
      "text/html": [
       " View run at <a href='https://wandb.ai/esil/ESIL-Noise.Model-S-Experiment-Test/runs/sszht096' target=\"_blank\">https://wandb.ai/esil/ESIL-Noise.Model-S-Experiment-Test/runs/sszht096</a>"
      ],
      "text/plain": [
       "<IPython.core.display.HTML object>"
      ]
     },
     "metadata": {},
     "output_type": "display_data"
    }
   ],
   "source": [
    "wandb.login(key=os.environ['WANDB_API_KEY'], force=True)\n",
    "time_point = datetime.datetime.now().strftime(\"%Y%m%d_%H%M%S\")\n",
    "\n",
    "wandb.init(\n",
    "    project='ESIL-Noise.Model-S-Experiment-Test',\n",
    "    name = time_point,\n",
    "    config=parameters.__dict__\n",
    ")\n",
    "\n",
    "save_dir = f'training/{datetime.datetime.now().strftime(\"%Y-%m-%d\")}'\n",
    "if not os.path.exists(save_dir):\n",
    "    os.makedirs(save_dir)"
   ]
  },
  {
   "cell_type": "code",
   "execution_count": 8,
   "metadata": {},
   "outputs": [],
   "source": []
  },
  {
   "cell_type": "code",
   "execution_count": 5,
   "metadata": {},
   "outputs": [],
   "source": [
    "# 自定义数据集\n",
    "nature = SST.NATURE.get()\n",
    "traffic = SST.TRAFFIC.get() # 弃用get_data_source(), 改用get()\n",
    "\n",
    "labels = nature.get_childs(\"雷声,蛙声,蝉鸣声,狗叫声\".split(',')) + traffic.childs\n",
    "\n",
    "bird_label = Label(\n",
    "    name='鸟叫',\n",
    "    sources=nature.get_childs(\n",
    "        # ['北红尾鸲叫声', '叉尾太阳鸟叫声', '大鹰鹃叫声', '强脚树莺叫声', '普通夜鹰叫声', '棕颈钩嘴鹛叫声', '淡脚柳莺叫声']\n",
    "        ['长尾缝叶莺叫声', '普通夜鹰叫声', '大鹰鹃叫声']\n",
    "    )\n",
    ")\n",
    "\n",
    "labels.append(bird_label)\n",
    "\n",
    "category = Category('Noise', labels)"
   ]
  },
  {
   "cell_type": "code",
   "execution_count": 6,
   "metadata": {},
   "outputs": [],
   "source": [
    "# # 简单一点的数据集，用来测试用\n",
    "# category = Category(\"Noise\", Sources.get_data_source(SST.NATURE).childs[:2])"
   ]
  },
  {
   "cell_type": "code",
   "execution_count": 7,
   "metadata": {},
   "outputs": [
    {
     "data": {
      "text/html": [
       "<div>\n",
       "<style scoped>\n",
       "    .dataframe tbody tr th:only-of-type {\n",
       "        vertical-align: middle;\n",
       "    }\n",
       "\n",
       "    .dataframe tbody tr th {\n",
       "        vertical-align: top;\n",
       "    }\n",
       "\n",
       "    .dataframe thead th {\n",
       "        text-align: right;\n",
       "    }\n",
       "</style>\n",
       "<table border=\"1\" class=\"dataframe\">\n",
       "  <thead>\n",
       "    <tr style=\"text-align: right;\">\n",
       "      <th></th>\n",
       "      <th>id</th>\n",
       "      <th>name</th>\n",
       "      <th>length</th>\n",
       "      <th>sources</th>\n",
       "    </tr>\n",
       "  </thead>\n",
       "  <tbody>\n",
       "    <tr>\n",
       "      <th>0</th>\n",
       "      <td>0</td>\n",
       "      <td>三轮车</td>\n",
       "      <td>1200</td>\n",
       "      <td>ProvinceDataSource(name=\"三轮车\", length=1200, pa...</td>\n",
       "    </tr>\n",
       "    <tr>\n",
       "      <th>1</th>\n",
       "      <td>1</td>\n",
       "      <td>公交车</td>\n",
       "      <td>1200</td>\n",
       "      <td>ProvinceDataSource(name=\"公交车\", length=1200, pa...</td>\n",
       "    </tr>\n",
       "    <tr>\n",
       "      <th>2</th>\n",
       "      <td>2</td>\n",
       "      <td>地铁</td>\n",
       "      <td>1200</td>\n",
       "      <td>ProvinceDataSource(name=\"地铁\", length=1200, par...</td>\n",
       "    </tr>\n",
       "    <tr>\n",
       "      <th>3</th>\n",
       "      <td>3</td>\n",
       "      <td>小艇</td>\n",
       "      <td>1200</td>\n",
       "      <td>ProvinceDataSource(name=\"小艇\", length=1200, par...</td>\n",
       "    </tr>\n",
       "    <tr>\n",
       "      <th>4</th>\n",
       "      <td>4</td>\n",
       "      <td>拖拉机</td>\n",
       "      <td>1200</td>\n",
       "      <td>ProvinceDataSource(name=\"拖拉机\", length=1200, pa...</td>\n",
       "    </tr>\n",
       "    <tr>\n",
       "      <th>5</th>\n",
       "      <td>5</td>\n",
       "      <td>摩托车</td>\n",
       "      <td>1200</td>\n",
       "      <td>ProvinceDataSource(name=\"摩托车\", length=1200, pa...</td>\n",
       "    </tr>\n",
       "    <tr>\n",
       "      <th>6</th>\n",
       "      <td>6</td>\n",
       "      <td>救火警铃</td>\n",
       "      <td>1200</td>\n",
       "      <td>ProvinceDataSource(name=\"救火警铃\", length=1200, p...</td>\n",
       "    </tr>\n",
       "    <tr>\n",
       "      <th>7</th>\n",
       "      <td>7</td>\n",
       "      <td>有轨电车</td>\n",
       "      <td>1200</td>\n",
       "      <td>ProvinceDataSource(name=\"有轨电车\", length=1200, p...</td>\n",
       "    </tr>\n",
       "    <tr>\n",
       "      <th>8</th>\n",
       "      <td>8</td>\n",
       "      <td>汽车</td>\n",
       "      <td>1200</td>\n",
       "      <td>ProvinceDataSource(name=\"汽车\", length=1200, par...</td>\n",
       "    </tr>\n",
       "    <tr>\n",
       "      <th>9</th>\n",
       "      <td>9</td>\n",
       "      <td>汽车刹车声</td>\n",
       "      <td>1200</td>\n",
       "      <td>ProvinceDataSource(name=\"汽车刹车声\", length=1200, ...</td>\n",
       "    </tr>\n",
       "    <tr>\n",
       "      <th>10</th>\n",
       "      <td>10</td>\n",
       "      <td>汽车鸣笛</td>\n",
       "      <td>1200</td>\n",
       "      <td>ProvinceDataSource(name=\"汽车鸣笛\", length=1200, p...</td>\n",
       "    </tr>\n",
       "    <tr>\n",
       "      <th>11</th>\n",
       "      <td>11</td>\n",
       "      <td>狗叫声</td>\n",
       "      <td>1200</td>\n",
       "      <td>ProvinceDataSource(name=\"狗叫声\", length=1200, pa...</td>\n",
       "    </tr>\n",
       "    <tr>\n",
       "      <th>12</th>\n",
       "      <td>12</td>\n",
       "      <td>直升机</td>\n",
       "      <td>1200</td>\n",
       "      <td>ProvinceDataSource(name=\"直升机\", length=1200, pa...</td>\n",
       "    </tr>\n",
       "    <tr>\n",
       "      <th>13</th>\n",
       "      <td>13</td>\n",
       "      <td>船</td>\n",
       "      <td>1200</td>\n",
       "      <td>ProvinceDataSource(name=\"船\", length=1200, pare...</td>\n",
       "    </tr>\n",
       "    <tr>\n",
       "      <th>14</th>\n",
       "      <td>14</td>\n",
       "      <td>蛙声</td>\n",
       "      <td>1200</td>\n",
       "      <td>ProvinceDataSource(name=\"蛙声\", length=1200, par...</td>\n",
       "    </tr>\n",
       "    <tr>\n",
       "      <th>15</th>\n",
       "      <td>15</td>\n",
       "      <td>蝉鸣声</td>\n",
       "      <td>1200</td>\n",
       "      <td>ProvinceDataSource(name=\"蝉鸣声\", length=1200, pa...</td>\n",
       "    </tr>\n",
       "    <tr>\n",
       "      <th>16</th>\n",
       "      <td>16</td>\n",
       "      <td>警铃</td>\n",
       "      <td>1200</td>\n",
       "      <td>ProvinceDataSource(name=\"警铃\", length=1200, par...</td>\n",
       "    </tr>\n",
       "    <tr>\n",
       "      <th>17</th>\n",
       "      <td>17</td>\n",
       "      <td>货车</td>\n",
       "      <td>1200</td>\n",
       "      <td>ProvinceDataSource(name=\"货车\", length=1200, par...</td>\n",
       "    </tr>\n",
       "    <tr>\n",
       "      <th>18</th>\n",
       "      <td>18</td>\n",
       "      <td>车辆防盗报警</td>\n",
       "      <td>1200</td>\n",
       "      <td>ProvinceDataSource(name=\"车辆防盗报警\", length=1200,...</td>\n",
       "    </tr>\n",
       "    <tr>\n",
       "      <th>19</th>\n",
       "      <td>19</td>\n",
       "      <td>铁轨</td>\n",
       "      <td>1200</td>\n",
       "      <td>ProvinceDataSource(name=\"铁轨\", length=1200, par...</td>\n",
       "    </tr>\n",
       "    <tr>\n",
       "      <th>20</th>\n",
       "      <td>20</td>\n",
       "      <td>长途客车</td>\n",
       "      <td>1200</td>\n",
       "      <td>ProvinceDataSource(name=\"长途客车\", length=1200, p...</td>\n",
       "    </tr>\n",
       "    <tr>\n",
       "      <th>21</th>\n",
       "      <td>21</td>\n",
       "      <td>雷声</td>\n",
       "      <td>1200</td>\n",
       "      <td>ProvinceDataSource(name=\"雷声\", length=1200, par...</td>\n",
       "    </tr>\n",
       "    <tr>\n",
       "      <th>22</th>\n",
       "      <td>22</td>\n",
       "      <td>飞机</td>\n",
       "      <td>1200</td>\n",
       "      <td>ProvinceDataSource(name=\"飞机\", length=1200, par...</td>\n",
       "    </tr>\n",
       "    <tr>\n",
       "      <th>23</th>\n",
       "      <td>23</td>\n",
       "      <td>高铁</td>\n",
       "      <td>1200</td>\n",
       "      <td>ProvinceDataSource(name=\"高铁\", length=1200, par...</td>\n",
       "    </tr>\n",
       "    <tr>\n",
       "      <th>24</th>\n",
       "      <td>24</td>\n",
       "      <td>鸟叫</td>\n",
       "      <td>3600</td>\n",
       "      <td>ProvinceDataSource(name=\"大鹰鹃叫声\", length=1200, ...</td>\n",
       "    </tr>\n",
       "  </tbody>\n",
       "</table>\n",
       "</div>"
      ],
      "text/plain": [
       "    id    name  length                                            sources\n",
       "0    0     三轮车    1200  ProvinceDataSource(name=\"三轮车\", length=1200, pa...\n",
       "1    1     公交车    1200  ProvinceDataSource(name=\"公交车\", length=1200, pa...\n",
       "2    2      地铁    1200  ProvinceDataSource(name=\"地铁\", length=1200, par...\n",
       "3    3      小艇    1200  ProvinceDataSource(name=\"小艇\", length=1200, par...\n",
       "4    4     拖拉机    1200  ProvinceDataSource(name=\"拖拉机\", length=1200, pa...\n",
       "5    5     摩托车    1200  ProvinceDataSource(name=\"摩托车\", length=1200, pa...\n",
       "6    6    救火警铃    1200  ProvinceDataSource(name=\"救火警铃\", length=1200, p...\n",
       "7    7    有轨电车    1200  ProvinceDataSource(name=\"有轨电车\", length=1200, p...\n",
       "8    8      汽车    1200  ProvinceDataSource(name=\"汽车\", length=1200, par...\n",
       "9    9   汽车刹车声    1200  ProvinceDataSource(name=\"汽车刹车声\", length=1200, ...\n",
       "10  10    汽车鸣笛    1200  ProvinceDataSource(name=\"汽车鸣笛\", length=1200, p...\n",
       "11  11     狗叫声    1200  ProvinceDataSource(name=\"狗叫声\", length=1200, pa...\n",
       "12  12     直升机    1200  ProvinceDataSource(name=\"直升机\", length=1200, pa...\n",
       "13  13       船    1200  ProvinceDataSource(name=\"船\", length=1200, pare...\n",
       "14  14      蛙声    1200  ProvinceDataSource(name=\"蛙声\", length=1200, par...\n",
       "15  15     蝉鸣声    1200  ProvinceDataSource(name=\"蝉鸣声\", length=1200, pa...\n",
       "16  16      警铃    1200  ProvinceDataSource(name=\"警铃\", length=1200, par...\n",
       "17  17      货车    1200  ProvinceDataSource(name=\"货车\", length=1200, par...\n",
       "18  18  车辆防盗报警    1200  ProvinceDataSource(name=\"车辆防盗报警\", length=1200,...\n",
       "19  19      铁轨    1200  ProvinceDataSource(name=\"铁轨\", length=1200, par...\n",
       "20  20    长途客车    1200  ProvinceDataSource(name=\"长途客车\", length=1200, p...\n",
       "21  21      雷声    1200  ProvinceDataSource(name=\"雷声\", length=1200, par...\n",
       "22  22      飞机    1200  ProvinceDataSource(name=\"飞机\", length=1200, par...\n",
       "23  23      高铁    1200  ProvinceDataSource(name=\"高铁\", length=1200, par...\n",
       "24  24      鸟叫    3600  ProvinceDataSource(name=\"大鹰鹃叫声\", length=1200, ..."
      ]
     },
     "execution_count": 7,
     "metadata": {},
     "output_type": "execute_result"
    }
   ],
   "source": [
    "# 查看category的labels_dataframe，也可以使用.labels_info查看\n",
    "category.labels_dataframe"
   ]
  },
  {
   "cell_type": "code",
   "execution_count": 8,
   "metadata": {},
   "outputs": [],
   "source": [
    "# 使用wandb记录labels\n",
    "wandb.log({\"Labels\": wlog.df2table(category.labels_dataframe)})"
   ]
  },
  {
   "cell_type": "code",
   "execution_count": 9,
   "metadata": {},
   "outputs": [
    {
     "name": "stdout",
     "output_type": "stream",
     "text": [
      "num_classes=25\n"
     ]
    }
   ],
   "source": [
    "# 分类数量\n",
    "num_classes = len(category.labels)\n",
    "print(f\"{num_classes=}\")"
   ]
  },
  {
   "cell_type": "code",
   "execution_count": 10,
   "metadata": {},
   "outputs": [],
   "source": [
    "# 创建数据集工厂对象，并创建训练集和测试集数据集对象\n",
    "dataset_factory = DatasetFactory(category)\n",
    "\n",
    "event_extractor = EventExtractor(parameters.SR, parameters.DURATION, device=DEVICE)\n",
    "train_data = dataset_factory.create_dataset(train=True, target_sr=parameters.SR, duration=parameters.DURATION, extractor=get_extractor(parameters).to(DEVICE), event_extractor=event_extractor, device=DEVICE)\n",
    "test_data = dataset_factory.create_dataset(train=False, target_sr=parameters.SR, duration=parameters.DURATION, extractor=get_extractor(parameters).to(DEVICE), event_extractor=event_extractor, device=DEVICE)"
   ]
  },
  {
   "cell_type": "code",
   "execution_count": 11,
   "metadata": {},
   "outputs": [],
   "source": [
    "# 定义函数，用于获取测试集的音频文件名和标签名称，用于在测试时记录预测错误的结果\n",
    "def get_file_path(index):\n",
    "    return os.path.basename(test_data._get_audio_path(index))\n",
    "\n",
    "def get_label_name(index):\n",
    "    return category.get_label(index).name"
   ]
  },
  {
   "cell_type": "code",
   "execution_count": 12,
   "metadata": {},
   "outputs": [
    {
     "name": "stdout",
     "output_type": "stream",
     "text": [
      "input_size=431\n"
     ]
    }
   ],
   "source": [
    "# 创建dataloader\n",
    "train_dataloader, test_dataloader = get_dataloader(train_data=train_data, test_data=test_data)\n",
    "\n",
    "# 创建模型\n",
    "input_size=test_data[0][0].shape[2]\n",
    "print(f\"{input_size=}\")\n",
    "model = get_model(input_size=input_size, num_classes=num_classes)\n",
    "\n",
    "# 创建loss函数\n",
    "loss = nn.CrossEntropyLoss()\n",
    "\n",
    "# 创建训练器\n",
    "trainer = Trainer(\n",
    "    model, \n",
    "    train_dataloader,\n",
    "    loss,\n",
    "    using_amp=False\n",
    ")\n",
    "# 重载模型（有需要时），需要指定模型路径和优化器路径\n",
    "# trainer.reload_trainer(model_path='test_model.pth', optimizer_path='test_params.pth')\n"
   ]
  },
  {
   "cell_type": "code",
   "execution_count": 13,
   "metadata": {},
   "outputs": [],
   "source": [
    "# metrics = None\n",
    "# tester = Tester.from_trainer(trainer, test_dataloader, num_classes, accuracy=0.0 if metrics is None else metrics.accuracy)\n",
    "# metrics, bad_cases = tester.test_an_epoch(get_file_path=get_file_path, tqdm_instance=None)"
   ]
  },
  {
   "cell_type": "code",
   "execution_count": 14,
   "metadata": {},
   "outputs": [
    {
     "name": "stderr",
     "output_type": "stream",
     "text": [
      "[train] loss: 3.1886 Progress: 31/810:  10%|█         | 1/10 [34:27<5:01:08, 2007.66s/it] "
     ]
    }
   ],
   "source": [
    "metrics = None # 初始化评价指标\n",
    "\n",
    "# 开始训练\n",
    "tqdm_instance = tqdm.tqdm(range(parameters.epochs))\n",
    "for i in tqdm_instance:\n",
    "    train_loss = trainer.train_an_epoch(tqdm_instance=tqdm_instance)\n",
    "    tester = Tester.from_trainer(trainer, test_dataloader, num_classes)\n",
    "    metrics, bad_cases = tester.test_an_epoch(get_file_path=get_file_path, get_label_name=get_label_name, tqdm_instance=tqdm_instance)\n",
    "    if metrics.accuracy > parameters.ACCURACY_THRESHOLD:\n",
    "        tester.save_model(os.path.join(save_dir, f\"model_{i}_{metrics.accuracy:.2f}.pth\"))\n",
    "    log_info = {\n",
    "        \"Epoch\": i+1,\n",
    "        \"train_loss\": train_loss\n",
    "    }\n",
    "    for key, value in metrics.model_dump().items():\n",
    "        if value is not None:\n",
    "            log_info[key] = value\n",
    "    wandb.log(log_info)\n",
    "    wandb.log({\"bad_cases\": wlog.df2table(bad_cases)})"
   ]
  },
  {
   "cell_type": "code",
   "execution_count": null,
   "metadata": {},
   "outputs": [
    {
     "data": {
      "application/vnd.jupyter.widget-view+json": {
       "model_id": "50bbfd25356145d6b962c6ee9648181d",
       "version_major": 2,
       "version_minor": 0
      },
      "text/plain": [
       "VBox(children=(Label(value='0.477 MB of 0.477 MB uploaded\\r'), FloatProgress(value=1.0, max=1.0)))"
      ]
     },
     "metadata": {},
     "output_type": "display_data"
    },
    {
     "data": {
      "text/html": [
       "<style>\n",
       "    table.wandb td:nth-child(1) { padding: 0 10px; text-align: left ; width: auto;} td:nth-child(2) {text-align: left ; width: 100%}\n",
       "    .wandb-row { display: flex; flex-direction: row; flex-wrap: wrap; justify-content: flex-start; width: 100% }\n",
       "    .wandb-col { display: flex; flex-direction: column; flex-basis: 100%; flex: 1; padding: 10px; }\n",
       "    </style>\n",
       "<div class=\"wandb-row\"><div class=\"wandb-col\"><h3>Run history:</h3><br/><table class=\"wandb\"><tr><td>Epoch</td><td>▁▂▃▃▄▅▆▆▇█</td></tr><tr><td>accuracy</td><td>███▇▁▅▅█▇▅</td></tr><tr><td>auc</td><td>▆▆█▄▁▄▃▆▅▄</td></tr><tr><td>f1_score</td><td>███▇▁▅▆█▇▅</td></tr><tr><td>f1_score_micro</td><td>███▇▁▅▅█▇▅</td></tr><tr><td>loss</td><td>█▅▇▁▂▃▃▅▂▁</td></tr><tr><td>precision</td><td>▇█▇▇▁▅▅▇▆▅</td></tr><tr><td>recall</td><td>███▇▁▅▅█▇▅</td></tr><tr><td>train_loss</td><td>▆▇▃▃▅▅▁▃▆█</td></tr></table><br/></div><div class=\"wandb-col\"><h3>Run summary:</h3><br/><table class=\"wandb\"><tr><td>Epoch</td><td>10</td></tr><tr><td>accuracy</td><td>0.64167</td></tr><tr><td>auc</td><td>0.72992</td></tr><tr><td>f1_score</td><td>0.60513</td></tr><tr><td>f1_score_micro</td><td>0.64167</td></tr><tr><td>loss</td><td>0.68147</td></tr><tr><td>precision</td><td>0.72489</td></tr><tr><td>recall</td><td>0.64167</td></tr><tr><td>train_loss</td><td>0.69156</td></tr></table><br/></div></div>"
      ],
      "text/plain": [
       "<IPython.core.display.HTML object>"
      ]
     },
     "metadata": {},
     "output_type": "display_data"
    },
    {
     "data": {
      "text/html": [
       " View run <strong style=\"color:#cdcd00\">20240620_114321</strong> at: <a href='https://wandb.ai/esil/ESIL-Noise.Model-S-Experiment-Test/runs/dw1evoae' target=\"_blank\">https://wandb.ai/esil/ESIL-Noise.Model-S-Experiment-Test/runs/dw1evoae</a><br/> View project at: <a href='https://wandb.ai/esil/ESIL-Noise.Model-S-Experiment-Test' target=\"_blank\">https://wandb.ai/esil/ESIL-Noise.Model-S-Experiment-Test</a><br/>Synced 6 W&B file(s), 11 media file(s), 10 artifact file(s) and 0 other file(s)"
      ],
      "text/plain": [
       "<IPython.core.display.HTML object>"
      ]
     },
     "metadata": {},
     "output_type": "display_data"
    },
    {
     "data": {
      "text/html": [
       "Find logs at: <code>.\\wandb\\run-20240620_114321-dw1evoae\\logs</code>"
      ],
      "text/plain": [
       "<IPython.core.display.HTML object>"
      ]
     },
     "metadata": {},
     "output_type": "display_data"
    }
   ],
   "source": [
    "wandb.finish() # 结束wandb的记录"
   ]
  }
 ],
 "metadata": {
  "kernelspec": {
   "display_name": "Python 3 (ipykernel)",
   "language": "python",
   "name": "python3"
  },
  "language_info": {
   "codemirror_mode": {
    "name": "ipython",
    "version": 3
   },
   "file_extension": ".py",
   "mimetype": "text/x-python",
   "name": "python",
   "nbconvert_exporter": "python",
   "pygments_lexer": "ipython3",
   "version": "3.10.13"
  }
 },
 "nbformat": 4,
 "nbformat_minor": 2
}

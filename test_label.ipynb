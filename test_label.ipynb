{
 "cells": [
  {
   "cell_type": "code",
   "execution_count": 1,
   "metadata": {},
   "outputs": [],
   "source": [
    "# -*- coding: utf-8 -*-\n",
    "# Author: Vi\n",
    "# Created on: 2024-06-13 16:47:03\n",
    "# Description: 测试自定义标签\n",
    "\n",
    "\n",
    "from datasets.models.sources import US8KDataSource, ESC50DataSource, ProvinceDataSource\n",
    "from datasets.models.label import Label"
   ]
  },
  {
   "cell_type": "code",
   "execution_count": 2,
   "metadata": {},
   "outputs": [
    {
     "data": {
      "text/plain": [
       "(8732, 2000, 24000)"
      ]
     },
     "execution_count": 2,
     "metadata": {},
     "output_type": "execute_result"
    }
   ],
   "source": [
    "us8k = US8KDataSource(base_dir=r'C:\\\\us8k', meta_file=r'static\\meta_file\\UrbanSound8K.csv')\n",
    "esc50 = ESC50DataSource(base_dir=r'C:\\\\esc50', meta_file=r'static\\meta_file\\esc50.csv')\n",
    "p_traffic = ProvinceDataSource(base_dir=r\"\\\\10.166.168.123\\典型城市声纹数据库-标签过\", meta_file=r'static\\meta_file\\province.json',name='交通噪声')\n",
    "len(us8k), len(esc50), len(p_traffic)"
   ]
  },
  {
   "cell_type": "code",
   "execution_count": 3,
   "metadata": {},
   "outputs": [
    {
     "data": {
      "text/plain": [
       "True"
      ]
     },
     "execution_count": 3,
     "metadata": {},
     "output_type": "execute_result"
    }
   ],
   "source": [
    "import os\n",
    "results = []\n",
    "for i in range(len(us8k)):\n",
    "    os.path.exists(us8k[i]) # check if file exists\n",
    "    results.append(us8k[i])\n",
    "    \n",
    "len(set(results)) == len(us8k) # check if all files are unique"
   ]
  },
  {
   "cell_type": "code",
   "execution_count": 4,
   "metadata": {},
   "outputs": [
    {
     "data": {
      "text/plain": [
       "{'air_conditioner': 1000,\n",
       " 'car_horn': 429,\n",
       " 'children_playing': 1000,\n",
       " 'dog_bark': 1000,\n",
       " 'drilling': 1000,\n",
       " 'engine_idling': 1000,\n",
       " 'gun_shot': 374,\n",
       " 'jackhammer': 1000,\n",
       " 'siren': 929,\n",
       " 'street_music': 1000}"
      ]
     },
     "execution_count": 4,
     "metadata": {},
     "output_type": "execute_result"
    }
   ],
   "source": [
    "us8k.childs_info"
   ]
  },
  {
   "cell_type": "code",
   "execution_count": 5,
   "metadata": {},
   "outputs": [
    {
     "data": {
      "text/plain": [
       "'dog,rooster,pig,cow,frog,cat,hen,insects,sheep,crow,rain,sea_waves,crackling_fire,crickets,chirping_birds,water_drops,wind,pouring_water,toilet_flush,thunderstorm,crying_baby,sneezing,clapping,breathing,coughing,footsteps,laughing,brushing_teeth,snoring,drinking_sipping,door_wood_knock,mouse_click,keyboard_typing,door_wood_creaks,can_opening,washing_machine,vacuum_cleaner,clock_alarm,clock_tick,glass_breaking,helicopter,chainsaw,siren,car_horn,engine,train,church_bells,airplane,fireworks,hand_saw'"
      ]
     },
     "execution_count": 5,
     "metadata": {},
     "output_type": "execute_result"
    }
   ],
   "source": [
    "','.join(esc50.childs_info)"
   ]
  },
  {
   "cell_type": "code",
   "execution_count": 6,
   "metadata": {},
   "outputs": [],
   "source": [
    "sources=us8k.get_childs(['car_horn','siren'])+ esc50.get_childs(['car_horn','engine','airplane'])+[p_traffic]"
   ]
  },
  {
   "cell_type": "code",
   "execution_count": 7,
   "metadata": {},
   "outputs": [
    {
     "data": {
      "text/plain": [
       "6"
      ]
     },
     "execution_count": 7,
     "metadata": {},
     "output_type": "execute_result"
    }
   ],
   "source": [
    "len(sources)"
   ]
  },
  {
   "cell_type": "code",
   "execution_count": 8,
   "metadata": {},
   "outputs": [
    {
     "name": "stdout",
     "output_type": "stream",
     "text": [
      "Source '交通噪声' already exists in label traffic\n"
     ]
    },
    {
     "data": {
      "text/plain": [
       "25478"
      ]
     },
     "execution_count": 8,
     "metadata": {},
     "output_type": "execute_result"
    }
   ],
   "source": [
    "label = Label(name='traffic', sources=sources)\n",
    "label.add_sources(p_traffic)\n",
    "len(label)"
   ]
  },
  {
   "cell_type": "code",
   "execution_count": 9,
   "metadata": {},
   "outputs": [
    {
     "data": {
      "text/plain": [
       "[ESC50DataSource(meta_file=\"static\\meta_file\\esc50.csv\", base_dir=\"C:\\\\esc50\", name=\"airplane\", label=47, length=40),\n",
       " ESC50DataSource(meta_file=\"static\\meta_file\\esc50.csv\", base_dir=\"C:\\\\esc50\", name=\"car_horn\", label=43, length=40),\n",
       " US8KDataSource(meta_file=\"static\\meta_file\\UrbanSound8K.csv\", base_dir=\"C:\\\\us8k\", name=\"car_horn\", label=1, length=429),\n",
       " ESC50DataSource(meta_file=\"static\\meta_file\\esc50.csv\", base_dir=\"C:\\\\esc50\", name=\"engine\", label=44, length=40),\n",
       " US8KDataSource(meta_file=\"static\\meta_file\\UrbanSound8K.csv\", base_dir=\"C:\\\\us8k\", name=\"siren\", label=8, length=929),\n",
       " ProvinceDataSource(base_dir=\"\\\\10.166.168.123\\典型城市声纹数据库-标签过\", name=\"交通噪声\", childs=[ProvinceDataSource(base_dir=\"\\\\10.166.168.123\\典型城市声纹数据库-标签过\", name=\"三轮车\", label=0, length=1200, parent=\"交通噪声\"), ProvinceDataSource(base_dir=\"\\\\10.166.168.123\\典型城市声纹数据库-标签过\", name=\"公交车\", label=1, length=1200, parent=\"交通噪声\"), ProvinceDataSource(base_dir=\"\\\\10.166.168.123\\典型城市声纹数据库-标签过\", name=\"地铁\", label=2, length=1200, parent=\"交通噪声\"), ProvinceDataSource(base_dir=\"\\\\10.166.168.123\\典型城市声纹数据库-标签过\", name=\"小艇\", label=3, length=1200, parent=\"交通噪声\"), ProvinceDataSource(base_dir=\"\\\\10.166.168.123\\典型城市声纹数据库-标签过\", name=\"拖拉机\", label=4, length=1200, parent=\"交通噪声\"), ProvinceDataSource(base_dir=\"\\\\10.166.168.123\\典型城市声纹数据库-标签过\", name=\"摩托车\", label=5, length=1200, parent=\"交通噪声\"), ProvinceDataSource(base_dir=\"\\\\10.166.168.123\\典型城市声纹数据库-标签过\", name=\"救火警铃\", label=6, length=1200, parent=\"交通噪声\"), ProvinceDataSource(base_dir=\"\\\\10.166.168.123\\典型城市声纹数据库-标签过\", name=\"有轨电车\", label=7, length=1200, parent=\"交通噪声\"), ProvinceDataSource(base_dir=\"\\\\10.166.168.123\\典型城市声纹数据库-标签过\", name=\"汽车\", label=8, length=1200, parent=\"交通噪声\"), ProvinceDataSource(base_dir=\"\\\\10.166.168.123\\典型城市声纹数据库-标签过\", name=\"汽车刹车声\", label=9, length=1200, parent=\"交通噪声\"), ProvinceDataSource(base_dir=\"\\\\10.166.168.123\\典型城市声纹数据库-标签过\", name=\"汽车鸣笛\", label=10, length=1200, parent=\"交通噪声\"), ProvinceDataSource(base_dir=\"\\\\10.166.168.123\\典型城市声纹数据库-标签过\", name=\"直升机\", label=11, length=1200, parent=\"交通噪声\"), ProvinceDataSource(base_dir=\"\\\\10.166.168.123\\典型城市声纹数据库-标签过\", name=\"船\", label=12, length=1200, parent=\"交通噪声\"), ProvinceDataSource(base_dir=\"\\\\10.166.168.123\\典型城市声纹数据库-标签过\", name=\"警铃\", label=13, length=1200, parent=\"交通噪声\"), ProvinceDataSource(base_dir=\"\\\\10.166.168.123\\典型城市声纹数据库-标签过\", name=\"货车\", label=14, length=1200, parent=\"交通噪声\"), ProvinceDataSource(base_dir=\"\\\\10.166.168.123\\典型城市声纹数据库-标签过\", name=\"车辆防盗报警\", label=15, length=1200, parent=\"交通噪声\"), ProvinceDataSource(base_dir=\"\\\\10.166.168.123\\典型城市声纹数据库-标签过\", name=\"铁轨\", label=16, length=1200, parent=\"交通噪声\"), ProvinceDataSource(base_dir=\"\\\\10.166.168.123\\典型城市声纹数据库-标签过\", name=\"长途客车\", label=17, length=1200, parent=\"交通噪声\"), ProvinceDataSource(base_dir=\"\\\\10.166.168.123\\典型城市声纹数据库-标签过\", name=\"飞机\", label=18, length=1200, parent=\"交通噪声\"), ProvinceDataSource(base_dir=\"\\\\10.166.168.123\\典型城市声纹数据库-标签过\", name=\"高铁\", label=19, length=1200, parent=\"交通噪声\")])]"
      ]
     },
     "execution_count": 9,
     "metadata": {},
     "output_type": "execute_result"
    }
   ],
   "source": [
    "label.sources"
   ]
  },
  {
   "cell_type": "code",
   "execution_count": 10,
   "metadata": {},
   "outputs": [],
   "source": [
    "import os\n",
    "if not os.path.exists('test'):\n",
    "    os.makedirs('test')\n",
    "with open('test/test.txt', 'w', encoding='utf-8') as f:\n",
    "    for i in range(len(label)):\n",
    "        f.write(label[i] + '\\n')"
   ]
  },
  {
   "cell_type": "code",
   "execution_count": 11,
   "metadata": {},
   "outputs": [
    {
     "data": {
      "text/plain": [
       "25478"
      ]
     },
     "execution_count": 11,
     "metadata": {},
     "output_type": "execute_result"
    }
   ],
   "source": [
    "with open('test/test.txt', 'r', encoding='utf-8') as f:\n",
    "    lines = f.readlines()\n",
    "    lines = [l.strip() for l in lines if l.strip()]\n",
    "len(set(lines))"
   ]
  }
 ],
 "metadata": {
  "kernelspec": {
   "display_name": "Vi",
   "language": "python",
   "name": "python3"
  },
  "language_info": {
   "codemirror_mode": {
    "name": "ipython",
    "version": 3
   },
   "file_extension": ".py",
   "mimetype": "text/x-python",
   "name": "python",
   "nbconvert_exporter": "python",
   "pygments_lexer": "ipython3",
   "version": "3.10.13"
  }
 },
 "nbformat": 4,
 "nbformat_minor": 2
}

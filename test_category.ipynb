{
 "cells": [
  {
   "cell_type": "code",
   "execution_count": 1,
   "metadata": {},
   "outputs": [],
   "source": [
    "# -*- coding: utf-8 -*-\n",
    "# Author: Vi\n",
    "# Created on: 2024-06-13 16:35:53\n",
    "# Description: 创建数据分类并测试\n",
    "\n",
    "from datasets.models.label import Label\n",
    "from datasets.models.sources import US8KDataSource, ESC50DataSource, ProvinceDataSource\n",
    "from datasets.models.category import Category"
   ]
  },
  {
   "cell_type": "code",
   "execution_count": null,
   "metadata": {},
   "outputs": [],
   "source": []
  },
  {
   "cell_type": "code",
   "execution_count": 2,
   "metadata": {},
   "outputs": [],
   "source": [
    "import yaml\n",
    "with open(\"configs.yml\", 'r') as f:\n",
    "    configs = yaml.safe_load(f)\n",
    "    \n",
    "datasources_info = configs['DataSources']"
   ]
  },
  {
   "cell_type": "code",
   "execution_count": 3,
   "metadata": {},
   "outputs": [],
   "source": [
    "us8k = US8KDataSource(**datasources_info['US8K'])\n",
    "esc50 = ESC50DataSource(**datasources_info['ESC50'])\n",
    "province_traffic = ProvinceDataSource(name=\"交通噪声\", **datasources_info['Province'])\n",
    "province_nature = ProvinceDataSource(name=\"自然噪声\", **datasources_info['Province'])\n",
    "province_industry = ProvinceDataSource(name=\"工业噪声\", **datasources_info['Province'])\n",
    "province_social = ProvinceDataSource(name=\"社会噪声\", **datasources_info['Province'])\n",
    "province_building = ProvinceDataSource(name=\"建筑施工噪声\", **datasources_info['Province'])"
   ]
  },
  {
   "cell_type": "code",
   "execution_count": 4,
   "metadata": {},
   "outputs": [],
   "source": [
    "from enum import Enum\n",
    "\n",
    "class DataSources(Enum):\n",
    "    US8K = us8k\n",
    "    ESC50 = esc50\n",
    "    PROVINCE_TRAFFIC = province_traffic\n",
    "    PROVINCE_NATURE = province_nature\n",
    "    PROVINCE_INDUSTRY = province_industry\n",
    "    PROVINCE_SOCIAL = province_social\n",
    "    PROVINCE_BUILDING = province_building"
   ]
  },
  {
   "cell_type": "code",
   "execution_count": 5,
   "metadata": {},
   "outputs": [
    {
     "data": {
      "text/plain": [
       "'dog,rooster,pig,cow,frog,cat,hen,insects,sheep,crow,rain,sea_waves,crackling_fire,crickets,chirping_birds,water_drops,wind,pouring_water,toilet_flush,thunderstorm,crying_baby,sneezing,clapping,breathing,coughing,footsteps,laughing,brushing_teeth,snoring,drinking_sipping,door_wood_knock,mouse_click,keyboard_typing,door_wood_creaks,can_opening,washing_machine,vacuum_cleaner,clock_alarm,clock_tick,glass_breaking,helicopter,chainsaw,siren,car_horn,engine,train,church_bells,airplane,fireworks,hand_saw'"
      ]
     },
     "execution_count": 5,
     "metadata": {},
     "output_type": "execute_result"
    }
   ],
   "source": [
    "','.join(esc50.childs_info)"
   ]
  },
  {
   "cell_type": "code",
   "execution_count": 6,
   "metadata": {},
   "outputs": [
    {
     "data": {
      "text/plain": [
       "Label(id=None, name='自然噪声', sources=[ProvinceDataSource(base_dir=\"\\\\10.166.168.123\\典型城市声纹数据库-标签过\", name=\"北红尾鸲叫声\", label=0, length=1200, parent=\"自然噪声\"), ProvinceDataSource(base_dir=\"\\\\10.166.168.123\\典型城市声纹数据库-标签过\", name=\"叉尾太阳鸟叫声\", label=1, length=1200, parent=\"自然噪声\"), ProvinceDataSource(base_dir=\"\\\\10.166.168.123\\典型城市声纹数据库-标签过\", name=\"大鹰鹃叫声\", label=2, length=1200, parent=\"自然噪声\"), ProvinceDataSource(base_dir=\"\\\\10.166.168.123\\典型城市声纹数据库-标签过\", name=\"强脚树莺叫声\", label=3, length=1200, parent=\"自然噪声\"), ProvinceDataSource(base_dir=\"\\\\10.166.168.123\\典型城市声纹数据库-标签过\", name=\"普通夜鹰叫声\", label=4, length=1200, parent=\"自然噪声\"), ProvinceDataSource(base_dir=\"\\\\10.166.168.123\\典型城市声纹数据库-标签过\", name=\"棕颈钩嘴鹛叫声\", label=5, length=1200, parent=\"自然噪声\"), ProvinceDataSource(base_dir=\"\\\\10.166.168.123\\典型城市声纹数据库-标签过\", name=\"淡脚柳莺叫声\", label=6, length=1200, parent=\"自然噪声\"), ProvinceDataSource(base_dir=\"\\\\10.166.168.123\\典型城市声纹数据库-标签过\", name=\"潮汐声\", label=7, length=1200, parent=\"自然噪声\"), ProvinceDataSource(base_dir=\"\\\\10.166.168.123\\典型城市声纹数据库-标签过\", name=\"瀑布声\", label=8, length=1200, parent=\"自然噪声\"), ProvinceDataSource(base_dir=\"\\\\10.166.168.123\\典型城市声纹数据库-标签过\", name=\"狗叫声\", label=9, length=1200, parent=\"自然噪声\"), ProvinceDataSource(base_dir=\"\\\\10.166.168.123\\典型城市声纹数据库-标签过\", name=\"猫叫声\", label=10, length=1200, parent=\"自然噪声\"), ProvinceDataSource(base_dir=\"\\\\10.166.168.123\\典型城市声纹数据库-标签过\", name=\"蛙声\", label=11, length=1200, parent=\"自然噪声\"), ProvinceDataSource(base_dir=\"\\\\10.166.168.123\\典型城市声纹数据库-标签过\", name=\"蝉鸣声\", label=12, length=1200, parent=\"自然噪声\"), ProvinceDataSource(base_dir=\"\\\\10.166.168.123\\典型城市声纹数据库-标签过\", name=\"螽斯声\", label=13, length=1200, parent=\"自然噪声\"), ProvinceDataSource(base_dir=\"\\\\10.166.168.123\\典型城市声纹数据库-标签过\", name=\"长尾缝叶莺叫声\", label=14, length=1200, parent=\"自然噪声\"), ProvinceDataSource(base_dir=\"\\\\10.166.168.123\\典型城市声纹数据库-标签过\", name=\"雨声\", label=15, length=1200, parent=\"自然噪声\"), ProvinceDataSource(base_dir=\"\\\\10.166.168.123\\典型城市声纹数据库-标签过\", name=\"雷声\", label=16, length=1200, parent=\"自然噪声\"), ProvinceDataSource(base_dir=\"\\\\10.166.168.123\\典型城市声纹数据库-标签过\", name=\"领鸺鹠叫声\", label=17, length=1200, parent=\"自然噪声\"), ProvinceDataSource(base_dir=\"\\\\10.166.168.123\\典型城市声纹数据库-标签过\", name=\"风声\", label=18, length=1200, parent=\"自然噪声\"), ProvinceDataSource(base_dir=\"\\\\10.166.168.123\\典型城市声纹数据库-标签过\", name=\"黄嘴角鸮叫声\", label=19, length=1200, parent=\"自然噪声\")])"
      ]
     },
     "execution_count": 6,
     "metadata": {},
     "output_type": "execute_result"
    }
   ],
   "source": [
    "province_nature.to_label()"
   ]
  },
  {
   "cell_type": "code",
   "execution_count": 7,
   "metadata": {},
   "outputs": [
    {
     "data": {
      "text/plain": [
       "23"
      ]
     },
     "execution_count": 7,
     "metadata": {},
     "output_type": "execute_result"
    }
   ],
   "source": [
    "labels = [\n",
    "    province_nature.get_child(\"雷声\").to_label(),\n",
    "    province_nature.get_child(\"蛙声\").to_label(),\n",
    "    Label(\n",
    "        name=\"鸟叫\",\n",
    "        sources=province_nature.get_childs(['北红尾鸲叫声', '叉尾太阳鸟叫声', '大鹰鹃叫声', '强脚树莺叫声', '普通夜鹰叫声', '棕颈钩嘴鹛叫声', '淡脚柳莺叫声'])+esc50.get_childs('chirping_birds'),\n",
    "    )\n",
    "] + [c.to_label() for c in province_traffic.childs]\n",
    "len(labels)"
   ]
  },
  {
   "cell_type": "code",
   "execution_count": 8,
   "metadata": {},
   "outputs": [
    {
     "data": {
      "text/plain": [
       "34840"
      ]
     },
     "execution_count": 8,
     "metadata": {},
     "output_type": "execute_result"
    }
   ],
   "source": [
    "category = Category(name='test', labels=labels)\n",
    "len(category)"
   ]
  },
  {
   "cell_type": "code",
   "execution_count": 9,
   "metadata": {},
   "outputs": [
    {
     "data": {
      "text/plain": [
       "23"
      ]
     },
     "execution_count": 9,
     "metadata": {},
     "output_type": "execute_result"
    }
   ],
   "source": [
    "len(category.labels)"
   ]
  },
  {
   "cell_type": "code",
   "execution_count": 10,
   "metadata": {},
   "outputs": [
    {
     "data": {
      "text/plain": [
       "[{'id': 0, 'name': '三轮车'},\n",
       " {'id': 1, 'name': '公交车'},\n",
       " {'id': 2, 'name': '地铁'},\n",
       " {'id': 3, 'name': '小艇'},\n",
       " {'id': 4, 'name': '拖拉机'},\n",
       " {'id': 5, 'name': '摩托车'},\n",
       " {'id': 6, 'name': '救火警铃'},\n",
       " {'id': 7, 'name': '有轨电车'},\n",
       " {'id': 8, 'name': '汽车'},\n",
       " {'id': 9, 'name': '汽车刹车声'},\n",
       " {'id': 10, 'name': '汽车鸣笛'},\n",
       " {'id': 11, 'name': '直升机'},\n",
       " {'id': 12, 'name': '船'},\n",
       " {'id': 13, 'name': '蛙声'},\n",
       " {'id': 14, 'name': '警铃'},\n",
       " {'id': 15, 'name': '货车'},\n",
       " {'id': 16, 'name': '车辆防盗报警'},\n",
       " {'id': 17, 'name': '铁轨'},\n",
       " {'id': 18, 'name': '长途客车'},\n",
       " {'id': 19, 'name': '雷声'},\n",
       " {'id': 20, 'name': '飞机'},\n",
       " {'id': 21, 'name': '高铁'},\n",
       " {'id': 22, 'name': '鸟叫'}]"
      ]
     },
     "execution_count": 10,
     "metadata": {},
     "output_type": "execute_result"
    }
   ],
   "source": [
    "category.labels_info"
   ]
  },
  {
   "cell_type": "code",
   "execution_count": 11,
   "metadata": {},
   "outputs": [],
   "source": [
    "import os\n",
    "if not os.path.exists('test'):\n",
    "    os.makedirs('test')\n",
    "with open('test/category.txt','w',encoding='utf-8') as f:\n",
    "    for i in range(len(category)):\n",
    "        f.write(str(category[i])+'\\n')"
   ]
  },
  {
   "cell_type": "code",
   "execution_count": 12,
   "metadata": {},
   "outputs": [
    {
     "name": "stdout",
     "output_type": "stream",
     "text": [
      "训练集分类分布: Counter({22: 6752, 7: 960, 21: 960, 15: 960, 16: 960, 5: 960, 1: 960, 12: 960, 3: 960, 8: 960, 9: 960, 17: 960, 20: 960, 19: 960, 6: 960, 4: 960, 18: 960, 11: 960, 10: 960, 0: 960, 14: 960, 13: 960, 2: 960})\n",
      "测试集分类分布: Counter({22: 1688, 16: 240, 11: 240, 8: 240, 14: 240, 7: 240, 9: 240, 2: 240, 18: 240, 3: 240, 13: 240, 19: 240, 4: 240, 21: 240, 5: 240, 17: 240, 10: 240, 15: 240, 0: 240, 12: 240, 6: 240, 20: 240, 1: 240})\n"
     ]
    }
   ],
   "source": [
    "# 按比例分割数据，并且分层\n",
    "X_train, X_test, y_train, y_test = category.get_train_test_data()\n",
    "_, _ = category.count_train_test_data(y_train=y_train, y_test=y_test)\n"
   ]
  },
  {
   "cell_type": "code",
   "execution_count": 13,
   "metadata": {},
   "outputs": [
    {
     "data": {
      "text/plain": [
       "(6968, 6968, 27872, 27872)"
      ]
     },
     "execution_count": 13,
     "metadata": {},
     "output_type": "execute_result"
    }
   ],
   "source": [
    "len(X_test), len(y_test), len(X_train), len(y_train)"
   ]
  },
  {
   "cell_type": "code",
   "execution_count": 14,
   "metadata": {},
   "outputs": [],
   "source": [
    "with open('test/category.txt', 'r', encoding='utf-8') as f:\n",
    "    lines = f.read()"
   ]
  },
  {
   "cell_type": "code",
   "execution_count": 15,
   "metadata": {},
   "outputs": [],
   "source": [
    "# 检查结果\n",
    "for x, y in zip(X_train, y_train):\n",
    "    if (res:=str((x, y))+'\\n') not in lines:\n",
    "        print(res)\n",
    "        \n",
    "for x, y in zip(X_test, y_test):\n",
    "    if (res:=str((x, y))+'\\n') not in lines:\n",
    "        print(res)"
   ]
  }
 ],
 "metadata": {
  "kernelspec": {
   "display_name": "Vi",
   "language": "python",
   "name": "python3"
  },
  "language_info": {
   "codemirror_mode": {
    "name": "ipython",
    "version": 3
   },
   "file_extension": ".py",
   "mimetype": "text/x-python",
   "name": "python",
   "nbconvert_exporter": "python",
   "pygments_lexer": "ipython3",
   "version": "3.10.13"
  }
 },
 "nbformat": 4,
 "nbformat_minor": 2
}

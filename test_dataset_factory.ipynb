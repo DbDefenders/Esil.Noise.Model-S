{
 "cells": [
  {
   "cell_type": "code",
   "execution_count": 1,
   "metadata": {},
   "outputs": [],
   "source": [
    "# -*- coding: utf-8 -*-\n",
    "# Author: Vi\n",
    "# Created on: 2024-06-14 9:39:00\n",
    "# Description: 创建数据集并测试\n",
    "\n",
    "from datasets import DatasetFactory, Category, Label\n",
    "from datasets.SupportedSources import NATURE, TRAFFIC, ESC50"
   ]
  },
  {
   "cell_type": "code",
   "execution_count": 2,
   "metadata": {},
   "outputs": [],
   "source": [
    "labels = [\n",
    "    NATURE.get_child(\"雷声\"),\n",
    "    NATURE.get_child(\"蛙声\"),\n",
    "    Label(\n",
    "        name='鸟叫',\n",
    "        sources=NATURE.get_childs(\n",
    "            ['北红尾鸲叫声', '叉尾太阳鸟叫声', '大鹰鹃叫声', '强脚树莺叫声', '普通夜鹰叫声', '棕颈钩嘴鹛叫声', '淡脚柳莺叫声']\n",
    "        ) + ESC50.get_childs('chirping_birds')\n",
    "    )\n",
    "] + TRAFFIC.childs"
   ]
  },
  {
   "cell_type": "code",
   "execution_count": 3,
   "metadata": {},
   "outputs": [
    {
     "data": {
      "text/plain": [
       "[ProvinceDataSource(base_dir=\"\\\\10.166.168.123\\典型城市声纹数据库-标签过\", name=\"雷声\", label=16, length=1200, parent=\"自然噪声\"),\n",
       " ProvinceDataSource(base_dir=\"\\\\10.166.168.123\\典型城市声纹数据库-标签过\", name=\"蛙声\", label=11, length=1200, parent=\"自然噪声\"),\n",
       " Label(id=None, name='鸟叫', sources=[ESC50DataSource(meta_file=\"static\\meta_file\\esc50.csv\", base_dir=\"c:\\esc50\", name=\"chirping_birds\", label=14, length=40), ProvinceDataSource(base_dir=\"\\\\10.166.168.123\\典型城市声纹数据库-标签过\", name=\"北红尾鸲叫声\", label=0, length=1200, parent=\"自然噪声\"), ProvinceDataSource(base_dir=\"\\\\10.166.168.123\\典型城市声纹数据库-标签过\", name=\"叉尾太阳鸟叫声\", label=1, length=1200, parent=\"自然噪声\"), ProvinceDataSource(base_dir=\"\\\\10.166.168.123\\典型城市声纹数据库-标签过\", name=\"大鹰鹃叫声\", label=2, length=1200, parent=\"自然噪声\"), ProvinceDataSource(base_dir=\"\\\\10.166.168.123\\典型城市声纹数据库-标签过\", name=\"强脚树莺叫声\", label=3, length=1200, parent=\"自然噪声\"), ProvinceDataSource(base_dir=\"\\\\10.166.168.123\\典型城市声纹数据库-标签过\", name=\"普通夜鹰叫声\", label=4, length=1200, parent=\"自然噪声\"), ProvinceDataSource(base_dir=\"\\\\10.166.168.123\\典型城市声纹数据库-标签过\", name=\"棕颈钩嘴鹛叫声\", label=5, length=1200, parent=\"自然噪声\"), ProvinceDataSource(base_dir=\"\\\\10.166.168.123\\典型城市声纹数据库-标签过\", name=\"淡脚柳莺叫声\", label=6, length=1200, parent=\"自然噪声\")]),\n",
       " ProvinceDataSource(base_dir=\"\\\\10.166.168.123\\典型城市声纹数据库-标签过\", name=\"三轮车\", label=0, length=1200, parent=\"交通噪声\"),\n",
       " ProvinceDataSource(base_dir=\"\\\\10.166.168.123\\典型城市声纹数据库-标签过\", name=\"公交车\", label=1, length=1200, parent=\"交通噪声\"),\n",
       " ProvinceDataSource(base_dir=\"\\\\10.166.168.123\\典型城市声纹数据库-标签过\", name=\"地铁\", label=2, length=1200, parent=\"交通噪声\"),\n",
       " ProvinceDataSource(base_dir=\"\\\\10.166.168.123\\典型城市声纹数据库-标签过\", name=\"小艇\", label=3, length=1200, parent=\"交通噪声\"),\n",
       " ProvinceDataSource(base_dir=\"\\\\10.166.168.123\\典型城市声纹数据库-标签过\", name=\"拖拉机\", label=4, length=1200, parent=\"交通噪声\"),\n",
       " ProvinceDataSource(base_dir=\"\\\\10.166.168.123\\典型城市声纹数据库-标签过\", name=\"摩托车\", label=5, length=1200, parent=\"交通噪声\"),\n",
       " ProvinceDataSource(base_dir=\"\\\\10.166.168.123\\典型城市声纹数据库-标签过\", name=\"救火警铃\", label=6, length=1200, parent=\"交通噪声\"),\n",
       " ProvinceDataSource(base_dir=\"\\\\10.166.168.123\\典型城市声纹数据库-标签过\", name=\"有轨电车\", label=7, length=1200, parent=\"交通噪声\"),\n",
       " ProvinceDataSource(base_dir=\"\\\\10.166.168.123\\典型城市声纹数据库-标签过\", name=\"汽车\", label=8, length=1200, parent=\"交通噪声\"),\n",
       " ProvinceDataSource(base_dir=\"\\\\10.166.168.123\\典型城市声纹数据库-标签过\", name=\"汽车刹车声\", label=9, length=1200, parent=\"交通噪声\"),\n",
       " ProvinceDataSource(base_dir=\"\\\\10.166.168.123\\典型城市声纹数据库-标签过\", name=\"汽车鸣笛\", label=10, length=1200, parent=\"交通噪声\"),\n",
       " ProvinceDataSource(base_dir=\"\\\\10.166.168.123\\典型城市声纹数据库-标签过\", name=\"直升机\", label=11, length=1200, parent=\"交通噪声\"),\n",
       " ProvinceDataSource(base_dir=\"\\\\10.166.168.123\\典型城市声纹数据库-标签过\", name=\"船\", label=12, length=1200, parent=\"交通噪声\"),\n",
       " ProvinceDataSource(base_dir=\"\\\\10.166.168.123\\典型城市声纹数据库-标签过\", name=\"警铃\", label=13, length=1200, parent=\"交通噪声\"),\n",
       " ProvinceDataSource(base_dir=\"\\\\10.166.168.123\\典型城市声纹数据库-标签过\", name=\"货车\", label=14, length=1200, parent=\"交通噪声\"),\n",
       " ProvinceDataSource(base_dir=\"\\\\10.166.168.123\\典型城市声纹数据库-标签过\", name=\"车辆防盗报警\", label=15, length=1200, parent=\"交通噪声\"),\n",
       " ProvinceDataSource(base_dir=\"\\\\10.166.168.123\\典型城市声纹数据库-标签过\", name=\"铁轨\", label=16, length=1200, parent=\"交通噪声\"),\n",
       " ProvinceDataSource(base_dir=\"\\\\10.166.168.123\\典型城市声纹数据库-标签过\", name=\"长途客车\", label=17, length=1200, parent=\"交通噪声\"),\n",
       " ProvinceDataSource(base_dir=\"\\\\10.166.168.123\\典型城市声纹数据库-标签过\", name=\"飞机\", label=18, length=1200, parent=\"交通噪声\"),\n",
       " ProvinceDataSource(base_dir=\"\\\\10.166.168.123\\典型城市声纹数据库-标签过\", name=\"高铁\", label=19, length=1200, parent=\"交通噪声\")]"
      ]
     },
     "execution_count": 3,
     "metadata": {},
     "output_type": "execute_result"
    }
   ],
   "source": [
    "labels"
   ]
  },
  {
   "cell_type": "code",
   "execution_count": 4,
   "metadata": {},
   "outputs": [
    {
     "data": {
      "text/plain": [
       "23"
      ]
     },
     "execution_count": 4,
     "metadata": {},
     "output_type": "execute_result"
    }
   ],
   "source": [
    "len(labels)"
   ]
  },
  {
   "cell_type": "code",
   "execution_count": 5,
   "metadata": {},
   "outputs": [],
   "source": [
    "category = Category(name=\"自然+交通\", labels=labels)"
   ]
  },
  {
   "cell_type": "code",
   "execution_count": 6,
   "metadata": {},
   "outputs": [
    {
     "data": {
      "text/plain": [
       "34840"
      ]
     },
     "execution_count": 6,
     "metadata": {},
     "output_type": "execute_result"
    }
   ],
   "source": [
    "len(category)"
   ]
  },
  {
   "cell_type": "code",
   "execution_count": 7,
   "metadata": {},
   "outputs": [
    {
     "name": "stdout",
     "output_type": "stream",
     "text": [
      "训练集分类分布: Counter({22: 6752, 7: 960, 21: 960, 15: 960, 16: 960, 5: 960, 1: 960, 12: 960, 3: 960, 8: 960, 9: 960, 17: 960, 20: 960, 19: 960, 6: 960, 4: 960, 18: 960, 11: 960, 10: 960, 0: 960, 14: 960, 13: 960, 2: 960})\n",
      "测试集分类分布: Counter({22: 1688, 16: 240, 11: 240, 8: 240, 14: 240, 7: 240, 9: 240, 2: 240, 18: 240, 3: 240, 13: 240, 19: 240, 4: 240, 21: 240, 5: 240, 17: 240, 10: 240, 15: 240, 0: 240, 12: 240, 6: 240, 20: 240, 1: 240})\n"
     ]
    },
    {
     "data": {
      "text/plain": [
       "(Label(id=22, name='鸟叫', sources=[ESC50DataSource(meta_file=\"static\\meta_file\\esc50.csv\", base_dir=\"c:\\esc50\", name=\"chirping_birds\", label=14, length=40), ProvinceDataSource(base_dir=\"\\\\10.166.168.123\\典型城市声纹数据库-标签过\", name=\"北红尾鸲叫声\", label=0, length=1200, parent=\"自然噪声\"), ProvinceDataSource(base_dir=\"\\\\10.166.168.123\\典型城市声纹数据库-标签过\", name=\"叉尾太阳鸟叫声\", label=1, length=1200, parent=\"自然噪声\"), ProvinceDataSource(base_dir=\"\\\\10.166.168.123\\典型城市声纹数据库-标签过\", name=\"大鹰鹃叫声\", label=2, length=1200, parent=\"自然噪声\"), ProvinceDataSource(base_dir=\"\\\\10.166.168.123\\典型城市声纹数据库-标签过\", name=\"强脚树莺叫声\", label=3, length=1200, parent=\"自然噪声\"), ProvinceDataSource(base_dir=\"\\\\10.166.168.123\\典型城市声纹数据库-标签过\", name=\"普通夜鹰叫声\", label=4, length=1200, parent=\"自然噪声\"), ProvinceDataSource(base_dir=\"\\\\10.166.168.123\\典型城市声纹数据库-标签过\", name=\"棕颈钩嘴鹛叫声\", label=5, length=1200, parent=\"自然噪声\"), ProvinceDataSource(base_dir=\"\\\\10.166.168.123\\典型城市声纹数据库-标签过\", name=\"淡脚柳莺叫声\", label=6, length=1200, parent=\"自然噪声\")]),\n",
       " Label(id=7, name='有轨电车', sources=[ProvinceDataSource(base_dir=\"\\\\10.166.168.123\\典型城市声纹数据库-标签过\", name=\"有轨电车\", label=7, length=1200, parent=\"交通噪声\")]))"
      ]
     },
     "execution_count": 7,
     "metadata": {},
     "output_type": "execute_result"
    }
   ],
   "source": [
    "dataset_factory = DatasetFactory(category=category, test_ratio=0.2, seed=1202)\n",
    "dataset_factory.count_train_test_data()\n",
    "dataset_factory.category.get_label(index=22), dataset_factory.category.get_label(index=7)"
   ]
  },
  {
   "cell_type": "code",
   "execution_count": 8,
   "metadata": {},
   "outputs": [
    {
     "data": {
      "text/plain": [
       "(['\\\\\\\\10.166.168.123\\\\典型城市声纹数据库-标签过\\\\交通噪声\\\\有轨电车\\\\有轨电车_1142.wav',\n",
       "  '\\\\\\\\10.166.168.123\\\\典型城市声纹数据库-标签过\\\\自然噪声\\\\叉尾太阳鸟叫声\\\\叉尾太阳鸟叫声_657.wav',\n",
       "  '\\\\\\\\10.166.168.123\\\\典型城市声纹数据库-标签过\\\\交通噪声\\\\高铁\\\\高铁_858.wav',\n",
       "  '\\\\\\\\10.166.168.123\\\\典型城市声纹数据库-标签过\\\\自然噪声\\\\棕颈钩嘴鹛叫声\\\\棕颈钩嘴鹛叫声_849.wav',\n",
       "  '\\\\\\\\10.166.168.123\\\\典型城市声纹数据库-标签过\\\\自然噪声\\\\强脚树莺叫声\\\\强脚树莺叫声_135.wav',\n",
       "  '\\\\\\\\10.166.168.123\\\\典型城市声纹数据库-标签过\\\\交通噪声\\\\货车\\\\货车_18.wav',\n",
       "  '\\\\\\\\10.166.168.123\\\\典型城市声纹数据库-标签过\\\\交通噪声\\\\车辆防盗报警\\\\车辆防盗报警_460.wav',\n",
       "  '\\\\\\\\10.166.168.123\\\\典型城市声纹数据库-标签过\\\\交通噪声\\\\高铁\\\\高铁_173.wav',\n",
       "  '\\\\\\\\10.166.168.123\\\\典型城市声纹数据库-标签过\\\\交通噪声\\\\摩托车\\\\摩托车_351.wav',\n",
       "  '\\\\\\\\10.166.168.123\\\\典型城市声纹数据库-标签过\\\\交通噪声\\\\公交车\\\\公交车_1032.wav'],\n",
       " [7, 22, 21, 22, 22, 15, 16, 21, 5, 1])"
      ]
     },
     "execution_count": 8,
     "metadata": {},
     "output_type": "execute_result"
    }
   ],
   "source": [
    "dataset_factory.X_train[:10], dataset_factory.y_train[:10]"
   ]
  },
  {
   "cell_type": "code",
   "execution_count": 9,
   "metadata": {},
   "outputs": [],
   "source": [
    "train_data = dataset_factory.create_dataset(train=True, target_sr=44100, duration=10, extractor=None)\n",
    "test_data = dataset_factory.create_dataset(train=False, target_sr=44100, duration=10, extractor=None)"
   ]
  },
  {
   "cell_type": "code",
   "execution_count": 10,
   "metadata": {},
   "outputs": [
    {
     "data": {
      "text/plain": [
       "(27872, 6968)"
      ]
     },
     "execution_count": 10,
     "metadata": {},
     "output_type": "execute_result"
    }
   ],
   "source": [
    "len(train_data), len(test_data)"
   ]
  }
 ],
 "metadata": {
  "kernelspec": {
   "display_name": "Vi",
   "language": "python",
   "name": "python3"
  },
  "language_info": {
   "codemirror_mode": {
    "name": "ipython",
    "version": 3
   },
   "file_extension": ".py",
   "mimetype": "text/x-python",
   "name": "python",
   "nbconvert_exporter": "python",
   "pygments_lexer": "ipython3",
   "version": "3.10.14"
  }
 },
 "nbformat": 4,
 "nbformat_minor": 2
}

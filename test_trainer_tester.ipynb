{
 "cells": [
  {
   "cell_type": "code",
   "execution_count": 1,
   "metadata": {},
   "outputs": [],
   "source": [
    "from datasets import DatasetFactory, Category, Label\n",
    "from datasets import SupportedSources as Sources\n",
    "from datasets.SupportedSources import SupportedSourceTypes as SST\n",
    "from utils.audio.features import get_feature_transformer, FeatureType\n",
    "from utils import config\n",
    "from models.panns import CNN10\n",
    "from utils.pytorch import Trainer, Tester\n",
    "from torch.utils.data import DataLoader\n",
    "from torch import nn\n",
    "import os\n",
    "import utils.wlog as wlog\n",
    "\n",
    "epochs = 50\n",
    "SR = 44100\n",
    "DURATION = 10\n",
    "BATCH_SIZE = 32\n",
    "ACCURACY_THRESHOLD = 0.5\n",
    "feature_type = FeatureType.MEL_SPECTROGRAM\n",
    "\n",
    "\n",
    "def get_extractor():\n",
    "    extractor = get_feature_transformer(\n",
    "        feature_type, **config.features[feature_type.name]\n",
    "    )\n",
    "    return extractor"
   ]
  },
  {
   "cell_type": "code",
   "execution_count": 2,
   "metadata": {},
   "outputs": [
    {
     "name": "stderr",
     "output_type": "stream",
     "text": [
      "Failed to detect the name of this notebook, you can set it manually with the WANDB_NOTEBOOK_NAME environment variable to enable code saving.\n",
      "\u001b[34m\u001b[1mwandb\u001b[0m: Currently logged in as: \u001b[33mreviy\u001b[0m (\u001b[33mesil\u001b[0m). Use \u001b[1m`wandb login --relogin`\u001b[0m to force relogin\n",
      "\u001b[34m\u001b[1mwandb\u001b[0m: \u001b[33mWARNING\u001b[0m If you're specifying your api key in code, ensure this code is not shared publicly.\n",
      "\u001b[34m\u001b[1mwandb\u001b[0m: \u001b[33mWARNING\u001b[0m Consider setting the WANDB_API_KEY environment variable, or running `wandb login` from the command line.\n",
      "\u001b[34m\u001b[1mwandb\u001b[0m: Appending key for api.wandb.ai to your netrc file: C:\\Users\\Vi\\.netrc\n"
     ]
    },
    {
     "data": {
      "application/vnd.jupyter.widget-view+json": {
       "model_id": "de2d4ad91adc45bba450f17f1d5ced60",
       "version_major": 2,
       "version_minor": 0
      },
      "text/plain": [
       "VBox(children=(Label(value='Waiting for wandb.init()...\\r'), FloatProgress(value=0.011111111111111112, max=1.0…"
      ]
     },
     "metadata": {},
     "output_type": "display_data"
    },
    {
     "data": {
      "text/html": [
       "Tracking run with wandb version 0.16.6"
      ],
      "text/plain": [
       "<IPython.core.display.HTML object>"
      ]
     },
     "metadata": {},
     "output_type": "display_data"
    },
    {
     "data": {
      "text/html": [
       "Run data is saved locally in <code>c:\\Users\\Vi\\Desktop\\git\\Viyyy\\Esil.Noise.Model-S\\wandb\\run-20240619_172257-5w9o54z0</code>"
      ],
      "text/plain": [
       "<IPython.core.display.HTML object>"
      ]
     },
     "metadata": {},
     "output_type": "display_data"
    },
    {
     "data": {
      "text/html": [
       "Syncing run <strong><a href='https://wandb.ai/esil/ESIL-Noise.Model-S/runs/5w9o54z0' target=\"_blank\">2024-06-19 17:22:57</a></strong> to <a href='https://wandb.ai/esil/ESIL-Noise.Model-S' target=\"_blank\">Weights & Biases</a> (<a href='https://wandb.me/run' target=\"_blank\">docs</a>)<br/>"
      ],
      "text/plain": [
       "<IPython.core.display.HTML object>"
      ]
     },
     "metadata": {},
     "output_type": "display_data"
    },
    {
     "data": {
      "text/html": [
       " View project at <a href='https://wandb.ai/esil/ESIL-Noise.Model-S' target=\"_blank\">https://wandb.ai/esil/ESIL-Noise.Model-S</a>"
      ],
      "text/plain": [
       "<IPython.core.display.HTML object>"
      ]
     },
     "metadata": {},
     "output_type": "display_data"
    },
    {
     "data": {
      "text/html": [
       " View run at <a href='https://wandb.ai/esil/ESIL-Noise.Model-S/runs/5w9o54z0' target=\"_blank\">https://wandb.ai/esil/ESIL-Noise.Model-S/runs/5w9o54z0</a>"
      ],
      "text/plain": [
       "<IPython.core.display.HTML object>"
      ]
     },
     "metadata": {},
     "output_type": "display_data"
    }
   ],
   "source": [
    "import wandb\n",
    "import datetime\n",
    "wandb.login(key=os.environ['WANDB_API_KEY'], force=True)\n",
    "time_point = datetime.datetime.now().strftime(\"%Y%m%d_%H%M%S\")\n",
    "\n",
    "wandb.init(\n",
    "    project='ESIL-Noise.Model-S',\n",
    "    name = time_point,\n",
    ")\n",
    "\n",
    "save_dir = f'training/{datetime.datetime.now().strftime(\"%Y-%m-%d\")}'\n",
    "if not os.path.exists(save_dir):\n",
    "    os.makedirs(save_dir)"
   ]
  },
  {
   "cell_type": "code",
   "execution_count": 3,
   "metadata": {},
   "outputs": [],
   "source": [
    "bird_label = Label(\n",
    "    name='鸟叫',\n",
    "    sources=Sources.get_data_source(SST.NATURE).get_childs(\n",
    "        ['北红尾鸲叫声', '叉尾太阳鸟叫声', '大鹰鹃叫声', '强脚树莺叫声', '普通夜鹰叫声', '棕颈钩嘴鹛叫声', '淡脚柳莺叫声']\n",
    "    )\n",
    ")\n",
    "labels = [\n",
    "    Sources.get_data_source(SST.NATURE).get_child(\"雷声\"),\n",
    "    Sources.get_data_source(SST.NATURE).get_child(\"蛙声\"),\n",
    "    bird_label,\n",
    "] + Sources.get_data_source(SST.TRAFFIC).childs\n",
    "category = Category('Noise', labels)"
   ]
  },
  {
   "cell_type": "code",
   "execution_count": 4,
   "metadata": {},
   "outputs": [],
   "source": [
    "category = Category(\"Noise\", Sources.get_data_source(SST.NATURE).childs[:2])"
   ]
  },
  {
   "cell_type": "code",
   "execution_count": 5,
   "metadata": {},
   "outputs": [],
   "source": [
    "dataset_factory = DatasetFactory(category)\n",
    "\n",
    "train_data = dataset_factory.create_dataset(train=True, target_sr=SR, duration=DURATION, extractor=get_extractor())\n",
    "test_data = dataset_factory.create_dataset(train=False, target_sr=SR, duration=DURATION, extractor=get_extractor())\n",
    "\n",
    "labels_info = category.labels_info\n",
    "wandb.log({\"Labels\": labels_info})\n",
    "num_classes = len(labels_info)"
   ]
  },
  {
   "cell_type": "code",
   "execution_count": 6,
   "metadata": {},
   "outputs": [],
   "source": [
    "\n",
    "def get_dataloader():\n",
    "    train_dataloader = DataLoader(train_data, batch_size=BATCH_SIZE, shuffle=True)\n",
    "    test_dataloader = DataLoader(test_data, batch_size=BATCH_SIZE, shuffle=False)\n",
    "    return train_dataloader, test_dataloader\n",
    "\n",
    "def get_model(input_size):\n",
    "    model = CNN10(num_class=num_classes, input_size=input_size)\n",
    "    return model\n",
    "    \n",
    "def get_file_path(index):\n",
    "    return os.path.basename(test_data._get_audio_path(index))\n",
    "\n",
    "def get_label_name(index):\n",
    "    return category.get_label(index).name"
   ]
  },
  {
   "cell_type": "code",
   "execution_count": 7,
   "metadata": {},
   "outputs": [
    {
     "name": "stdout",
     "output_type": "stream",
     "text": [
      "input_size=862\n"
     ]
    }
   ],
   "source": [
    "import tqdm\n",
    "\n",
    "train_dataloader, test_dataloader = get_dataloader()\n",
    "input_size=test_data[0][0].shape[2]\n",
    "print(f\"{input_size=}\")\n",
    "model = get_model(input_size=input_size)\n",
    "loss = nn.CrossEntropyLoss()\n",
    "trainer = Trainer(\n",
    "    model, \n",
    "    train_dataloader,\n",
    "    loss,\n",
    "    using_amp=False\n",
    ")\n",
    "# trainer.reload_trainer(model_path='test_model.pth', optimizer_path='test_params.pth')\n"
   ]
  },
  {
   "cell_type": "code",
   "execution_count": 8,
   "metadata": {},
   "outputs": [],
   "source": [
    "# metrics = None\n",
    "# tester = Tester.from_trainer(trainer, test_dataloader, num_classes, accuracy=0.0 if metrics is None else metrics.accuracy)\n",
    "# metrics, bad_cases = tester.test_an_epoch(get_file_path=get_file_path, tqdm_instance=None)"
   ]
  },
  {
   "cell_type": "code",
   "execution_count": 9,
   "metadata": {},
   "outputs": [
    {
     "name": "stderr",
     "output_type": "stream",
     "text": [
      "[valid] accuracy: 0.6000, loss: 0.6677: 100%|██████████| 1/1 [02:23<00:00, 143.32s/it]\n"
     ]
    }
   ],
   "source": [
    "metrics = None\n",
    "\n",
    "tqdm_instance = tqdm.tqdm(range(epochs))\n",
    "for i in tqdm_instance:\n",
    "    train_loss = trainer.train_an_epoch(tqdm_instance=tqdm_instance)\n",
    "    tester = Tester.from_trainer(trainer, test_dataloader, num_classes, accuracy=0.0 if metrics is None else metrics.accuracy)\n",
    "    metrics, bad_cases = tester.test_an_epoch(get_file_path=get_file_path, get_label_name=get_label_name, tqdm_instance=tqdm_instance)\n",
    "    if metrics.accuracy > ACCURACY_THRESHOLD:\n",
    "        tester.save_model(os.path.join(save_dir, f\"model_{i}_{metrics.accuracy:.2f}.pth\"))\n",
    "    log_info = {\n",
    "        \"Epoch\": i+1,\n",
    "        \"train_loss\": train_loss\n",
    "    }\n",
    "    for key, value in metrics.model_dump().items():\n",
    "        if value is not None:\n",
    "            log_info[key] = value\n",
    "    wandb.log(log_info)\n",
    "    wandb.log({\"bad_cases\": wlog.df2table(bad_cases)})"
   ]
  },
  {
   "cell_type": "code",
   "execution_count": 10,
   "metadata": {},
   "outputs": [
    {
     "data": {
      "application/vnd.jupyter.widget-view+json": {
       "model_id": "c84694108a9d42b49f055cd983364b23",
       "version_major": 2,
       "version_minor": 0
      },
      "text/plain": [
       "VBox(children=(Label(value='0.031 MB of 0.031 MB uploaded\\r'), FloatProgress(value=1.0, max=1.0)))"
      ]
     },
     "metadata": {},
     "output_type": "display_data"
    },
    {
     "data": {
      "text/html": [
       "<style>\n",
       "    table.wandb td:nth-child(1) { padding: 0 10px; text-align: left ; width: auto;} td:nth-child(2) {text-align: left ; width: 100%}\n",
       "    .wandb-row { display: flex; flex-direction: row; flex-wrap: wrap; justify-content: flex-start; width: 100% }\n",
       "    .wandb-col { display: flex; flex-direction: column; flex-basis: 100%; flex: 1; padding: 10px; }\n",
       "    </style>\n",
       "<div class=\"wandb-row\"><div class=\"wandb-col\"><h3>Run history:</h3><br/><table class=\"wandb\"><tr><td>Epoch</td><td>▁</td></tr><tr><td>accuracy</td><td>▁</td></tr><tr><td>auc</td><td>▁</td></tr><tr><td>f1_score_micro</td><td>▁</td></tr><tr><td>loss</td><td>▁</td></tr><tr><td>precision</td><td>▁</td></tr><tr><td>recall</td><td>▁</td></tr><tr><td>train_loss</td><td>▁</td></tr></table><br/></div><div class=\"wandb-col\"><h3>Run summary:</h3><br/><table class=\"wandb\"><tr><td>Epoch</td><td>1</td></tr><tr><td>accuracy</td><td>0.6</td></tr><tr><td>auc</td><td>0.69716</td></tr><tr><td>f1_score_micro</td><td>0.6</td></tr><tr><td>loss</td><td>0.66766</td></tr><tr><td>precision</td><td>0.72857</td></tr><tr><td>recall</td><td>0.6</td></tr><tr><td>train_loss</td><td>0.69909</td></tr></table><br/></div></div>"
      ],
      "text/plain": [
       "<IPython.core.display.HTML object>"
      ]
     },
     "metadata": {},
     "output_type": "display_data"
    },
    {
     "data": {
      "text/html": [
       " View run <strong style=\"color:#cdcd00\">2024-06-19 17:22:57</strong> at: <a href='https://wandb.ai/esil/ESIL-Noise.Model-S/runs/5w9o54z0' target=\"_blank\">https://wandb.ai/esil/ESIL-Noise.Model-S/runs/5w9o54z0</a><br/> View project at: <a href='https://wandb.ai/esil/ESIL-Noise.Model-S' target=\"_blank\">https://wandb.ai/esil/ESIL-Noise.Model-S</a><br/>Synced 6 W&B file(s), 1 media file(s), 1 artifact file(s) and 0 other file(s)"
      ],
      "text/plain": [
       "<IPython.core.display.HTML object>"
      ]
     },
     "metadata": {},
     "output_type": "display_data"
    },
    {
     "data": {
      "text/html": [
       "Find logs at: <code>.\\wandb\\run-20240619_172257-5w9o54z0\\logs</code>"
      ],
      "text/plain": [
       "<IPython.core.display.HTML object>"
      ]
     },
     "metadata": {},
     "output_type": "display_data"
    }
   ],
   "source": [
    "wandb.finish()"
   ]
  }
 ],
 "metadata": {
  "kernelspec": {
   "display_name": "Python 3 (ipykernel)",
   "language": "python",
   "name": "python3"
  },
  "language_info": {
   "codemirror_mode": {
    "name": "ipython",
    "version": 3
   },
   "file_extension": ".py",
   "mimetype": "text/x-python",
   "name": "python",
   "nbconvert_exporter": "python",
   "pygments_lexer": "ipython3",
   "version": "3.10.13"
  }
 },
 "nbformat": 4,
 "nbformat_minor": 2
}
